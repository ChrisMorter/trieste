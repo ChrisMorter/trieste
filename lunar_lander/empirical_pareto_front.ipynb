{
 "cells": [
  {
   "cell_type": "code",
   "execution_count": 1,
   "id": "336a4201",
   "metadata": {},
   "outputs": [
    {
     "name": "stderr",
     "output_type": "stream",
     "text": [
      "2021-11-12 13:15:49.586915: W tensorflow/stream_executor/platform/default/dso_loader.cc:64] Could not load dynamic library 'libcudart.so.11.0'; dlerror: libcudart.so.11.0: cannot open shared object file: No such file or directory\n",
      "2021-11-12 13:15:49.586949: I tensorflow/stream_executor/cuda/cudart_stub.cc:29] Ignore above cudart dlerror if you do not have a GPU set up on your machine.\n",
      "2021-11-12 13:15:50.665607: I tensorflow/stream_executor/platform/default/dso_loader.cc:53] Successfully opened dynamic library libcuda.so.1\n",
      "2021-11-12 13:15:50.687729: I tensorflow/stream_executor/cuda/cuda_gpu_executor.cc:937] successful NUMA node read from SysFS had negative value (-1), but there must be at least one NUMA node, so returning NUMA node zero\n",
      "2021-11-12 13:15:50.688045: I tensorflow/core/common_runtime/gpu/gpu_device.cc:1733] Found device 0 with properties: \n",
      "pciBusID: 0000:01:00.0 name: GeForce GTX 1070 computeCapability: 6.1\n",
      "coreClock: 1.683GHz coreCount: 15 deviceMemorySize: 7.93GiB deviceMemoryBandwidth: 238.66GiB/s\n",
      "2021-11-12 13:15:50.688133: W tensorflow/stream_executor/platform/default/dso_loader.cc:64] Could not load dynamic library 'libcudart.so.11.0'; dlerror: libcudart.so.11.0: cannot open shared object file: No such file or directory\n",
      "2021-11-12 13:15:50.688220: W tensorflow/stream_executor/platform/default/dso_loader.cc:64] Could not load dynamic library 'libcublas.so.11'; dlerror: libcublas.so.11: cannot open shared object file: No such file or directory\n",
      "2021-11-12 13:15:50.688277: W tensorflow/stream_executor/platform/default/dso_loader.cc:64] Could not load dynamic library 'libcublasLt.so.11'; dlerror: libcublasLt.so.11: cannot open shared object file: No such file or directory\n",
      "2021-11-12 13:15:50.688317: W tensorflow/stream_executor/platform/default/dso_loader.cc:64] Could not load dynamic library 'libcufft.so.10'; dlerror: libcufft.so.10: cannot open shared object file: No such file or directory\n",
      "2021-11-12 13:15:50.688359: W tensorflow/stream_executor/platform/default/dso_loader.cc:64] Could not load dynamic library 'libcurand.so.10'; dlerror: libcurand.so.10: cannot open shared object file: No such file or directory\n",
      "2021-11-12 13:15:50.688399: W tensorflow/stream_executor/platform/default/dso_loader.cc:64] Could not load dynamic library 'libcusolver.so.11'; dlerror: libcusolver.so.11: cannot open shared object file: No such file or directory\n",
      "2021-11-12 13:15:50.688454: W tensorflow/stream_executor/platform/default/dso_loader.cc:64] Could not load dynamic library 'libcusparse.so.11'; dlerror: libcusparse.so.11: cannot open shared object file: No such file or directory\n",
      "2021-11-12 13:15:50.688554: W tensorflow/stream_executor/platform/default/dso_loader.cc:64] Could not load dynamic library 'libcudnn.so.8'; dlerror: libcudnn.so.8: cannot open shared object file: No such file or directory\n",
      "2021-11-12 13:15:50.688578: W tensorflow/core/common_runtime/gpu/gpu_device.cc:1766] Cannot dlopen some GPU libraries. Please make sure the missing libraries mentioned above are installed properly if you would like to use GPU. Follow the guide at https://www.tensorflow.org/install/gpu for how to download and setup the required libraries for your platform.\n",
      "Skipping registering GPU devices...\n",
      "2021-11-12 13:15:50.689054: I tensorflow/core/platform/cpu_feature_guard.cc:142] This TensorFlow binary is optimized with oneAPI Deep Neural Network Library (oneDNN) to use the following CPU instructions in performance-critical operations:  AVX2 FMA\n",
      "To enable them in other operations, rebuild TensorFlow with the appropriate compiler flags.\n",
      "2021-11-12 13:15:50.689307: I tensorflow/core/common_runtime/gpu/gpu_device.cc:1258] Device interconnect StreamExecutor with strength 1 edge matrix:\n",
      "2021-11-12 13:15:50.689317: I tensorflow/core/common_runtime/gpu/gpu_device.cc:1264]      \n"
     ]
    }
   ],
   "source": [
    "import numpy as np\n",
    "\n",
    "import lunar_lander\n",
    "from turbo_test import demo_heuristic_lander\n",
    "import tensorflow as tf\n",
    "import tensorflow_probability as tfp\n",
    "import trieste\n",
    "\n",
    "import timeit"
   ]
  },
  {
   "cell_type": "code",
   "execution_count": 2,
   "id": "29737136",
   "metadata": {},
   "outputs": [],
   "source": [
    "# this space is created by going approximately +-0.2 around parameter values, but not going below 0\n",
    "# see for original values https://github.com/openai/gym/blob/master/gym/envs/box2d/lunar_lander.py\n",
    "# original values are\n",
    "# 0.5 1 0.4 0.55 0.5 1 0.5 0.5 0 0.5 0.05 0.05\n",
    "# and for parameter definition https://github.com/uber-research/TuRBO\n",
    "search_space = trieste.space.Box(\n",
    "    [0.3, 0.8, 0.2, 0.35, 0.3, 0.8, 0.3, 0.3, 0.0, 0.3, 0.0,  0.0],\n",
    "    [0.7, 1.2, 0.6, 0.75, 0.7, 1.2, 0.7, 0.7, 0.2, 0.7, 0.25, 0.25]\n",
    ")"
   ]
  },
  {
   "cell_type": "code",
   "execution_count": 3,
   "id": "904af0df",
   "metadata": {},
   "outputs": [],
   "source": [
    "OBJECTIVE = trieste.observer.OBJECTIVE\n",
    "# lander crashed or timed out\n",
    "FAILURE = \"FAILURE\"\n",
    "\n",
    "create_empty_dataset = lambda : trieste.data.Dataset(\n",
    "                                    tf.zeros((0, search_space.dimension), tf.float64),\n",
    "                                    tf.zeros((0, 1), tf.float64)\n",
    "                                )\n",
    "\n",
    "def lander_observer(x):\n",
    "    all_datasets = {\n",
    "        OBJECTIVE: create_empty_dataset(),\n",
    "        FAILURE: create_empty_dataset()\n",
    "    }\n",
    "\n",
    "    def add_data(dataset_tag, x, y):\n",
    "        new_dataset = trieste.data.Dataset(np.atleast_2d(x), np.atleast_2d(y))\n",
    "        all_datasets[dataset_tag] += new_dataset\n",
    "\n",
    "    for w in x.numpy():\n",
    "        result = demo_heuristic_lander(lunar_lander.LunarLander(), w)\n",
    "        if result.timeout or result.has_crashed:\n",
    "            add_data(FAILURE, w, 0.0)\n",
    "            continue\n",
    "        else:\n",
    "            add_data(FAILURE, w, 1.0)\n",
    "\n",
    "        normalized_fuel = np.float64(result.total_fuel / 100.0)\n",
    "        add_data(OBJECTIVE, w, normalized_fuel)\n",
    "    \n",
    "    return all_datasets"
   ]
  },
  {
   "cell_type": "code",
   "execution_count": 4,
   "id": "29e90e8c",
   "metadata": {},
   "outputs": [
    {
     "name": "stdout",
     "output_type": "stream",
     "text": [
      "DemoHeuristicResult: reward: 12.97, fuel: 16.26, steps: 107.0, crashed: True, timeout: False, is_in_helipad: False, success: False\n",
      "DemoHeuristicResult: reward: -4.94, fuel: 15.99, steps: 103.0, crashed: True, timeout: False, is_in_helipad: False, success: False\n",
      "DemoHeuristicResult: reward: 200.11, fuel: 17.16, steps: 179.0, crashed: False, timeout: False, is_in_helipad: False, success: False\n",
      "DemoHeuristicResult: reward: -222.64, fuel: 24.24, steps: 155.0, crashed: True, timeout: False, is_in_helipad: False, success: False\n",
      "DemoHeuristicResult: reward: 21.37, fuel: 16.59, steps: 128.0, crashed: True, timeout: False, is_in_helipad: False, success: False\n",
      "DemoHeuristicResult: reward: 34.11, fuel: 18.60, steps: 142.0, crashed: True, timeout: False, is_in_helipad: True, success: False\n",
      "DemoHeuristicResult: reward: 281.60, fuel: 20.79, steps: 176.0, crashed: False, timeout: False, is_in_helipad: True, success: True\n",
      "DemoHeuristicResult: reward: -73.52, fuel: 6.60, steps: 73.0, crashed: True, timeout: False, is_in_helipad: False, success: False\n",
      "DemoHeuristicResult: reward: 15.70, fuel: 14.25, steps: 87.0, crashed: True, timeout: False, is_in_helipad: False, success: False\n",
      "DemoHeuristicResult: reward: 45.93, fuel: 14.55, steps: 89.0, crashed: True, timeout: False, is_in_helipad: False, success: False\n",
      "DemoHeuristicResult: reward: -51.54, fuel: 51.84, steps: 428.0, crashed: True, timeout: False, is_in_helipad: False, success: False\n",
      "DemoHeuristicResult: reward: 6.62, fuel: 14.61, steps: 100.0, crashed: True, timeout: False, is_in_helipad: True, success: False\n",
      "DemoHeuristicResult: reward: 16.23, fuel: 15.51, steps: 97.0, crashed: True, timeout: False, is_in_helipad: True, success: False\n",
      "DemoHeuristicResult: reward: -44.95, fuel: 11.52, steps: 78.0, crashed: True, timeout: False, is_in_helipad: False, success: False\n",
      "DemoHeuristicResult: reward: 25.90, fuel: 20.70, steps: 142.0, crashed: True, timeout: False, is_in_helipad: True, success: False\n",
      "DemoHeuristicResult: reward: -137.05, fuel: 24.75, steps: 117.0, crashed: True, timeout: False, is_in_helipad: False, success: False\n",
      "DemoHeuristicResult: reward: 7.67, fuel: 12.03, steps: 73.0, crashed: True, timeout: False, is_in_helipad: False, success: False\n",
      "DemoHeuristicResult: reward: -30.84, fuel: 7.98, steps: 98.0, crashed: True, timeout: False, is_in_helipad: True, success: False\n",
      "DemoHeuristicResult: reward: -28.10, fuel: 13.08, steps: 90.0, crashed: True, timeout: False, is_in_helipad: False, success: False\n",
      "DemoHeuristicResult: reward: 10.35, fuel: 15.30, steps: 92.0, crashed: True, timeout: False, is_in_helipad: True, success: False\n",
      "DemoHeuristicResult: reward: 17.64, fuel: 9.90, steps: 102.0, crashed: True, timeout: False, is_in_helipad: True, success: False\n",
      "DemoHeuristicResult: reward: -24.12, fuel: 12.30, steps: 102.0, crashed: True, timeout: False, is_in_helipad: True, success: False\n",
      "DemoHeuristicResult: reward: -5.88, fuel: 23.13, steps: 148.0, crashed: True, timeout: False, is_in_helipad: False, success: False\n",
      "DemoHeuristicResult: reward: -43.43, fuel: 9.66, steps: 105.0, crashed: True, timeout: False, is_in_helipad: False, success: False\n",
      "DemoHeuristicResult: reward: -62.17, fuel: 6.39, steps: 87.0, crashed: True, timeout: False, is_in_helipad: True, success: False\n",
      "DemoHeuristicResult: reward: 29.59, fuel: 10.83, steps: 70.0, crashed: True, timeout: False, is_in_helipad: True, success: False\n",
      "DemoHeuristicResult: reward: 270.18, fuel: 26.64, steps: 201.0, crashed: False, timeout: False, is_in_helipad: True, success: True\n",
      "DemoHeuristicResult: reward: -115.53, fuel: 16.68, steps: 114.0, crashed: True, timeout: False, is_in_helipad: False, success: False\n",
      "DemoHeuristicResult: reward: -18.75, fuel: 15.45, steps: 87.0, crashed: True, timeout: False, is_in_helipad: False, success: False\n",
      "DemoHeuristicResult: reward: 15.56, fuel: 20.58, steps: 138.0, crashed: True, timeout: False, is_in_helipad: True, success: False\n",
      "DemoHeuristicResult: reward: -49.46, fuel: 7.56, steps: 97.0, crashed: True, timeout: False, is_in_helipad: False, success: False\n",
      "DemoHeuristicResult: reward: -40.41, fuel: 7.86, steps: 66.0, crashed: True, timeout: False, is_in_helipad: False, success: False\n",
      "DemoHeuristicResult: reward: -42.37, fuel: 9.51, steps: 89.0, crashed: True, timeout: False, is_in_helipad: False, success: False\n",
      "DemoHeuristicResult: reward: 23.43, fuel: 17.79, steps: 105.0, crashed: True, timeout: False, is_in_helipad: False, success: False\n",
      "DemoHeuristicResult: reward: 204.04, fuel: 34.26, steps: 345.0, crashed: False, timeout: False, is_in_helipad: False, success: False\n",
      "DemoHeuristicResult: reward: 8.78, fuel: 14.43, steps: 117.0, crashed: True, timeout: False, is_in_helipad: False, success: False\n",
      "DemoHeuristicResult: reward: 21.03, fuel: 9.21, steps: 65.0, crashed: True, timeout: False, is_in_helipad: False, success: False\n",
      "DemoHeuristicResult: reward: -2.46, fuel: 11.49, steps: 103.0, crashed: True, timeout: False, is_in_helipad: True, success: False\n",
      "DemoHeuristicResult: reward: -44.57, fuel: 8.61, steps: 76.0, crashed: True, timeout: False, is_in_helipad: False, success: False\n",
      "DemoHeuristicResult: reward: 67.87, fuel: 12.24, steps: 83.0, crashed: True, timeout: False, is_in_helipad: False, success: False\n",
      "DemoHeuristicResult: reward: -94.28, fuel: 42.39, steps: 328.0, crashed: True, timeout: False, is_in_helipad: False, success: False\n",
      "DemoHeuristicResult: reward: -207.44, fuel: 30.75, steps: 340.0, crashed: True, timeout: False, is_in_helipad: False, success: False\n",
      "DemoHeuristicResult: reward: -41.72, fuel: 5.40, steps: 83.0, crashed: True, timeout: False, is_in_helipad: True, success: False\n",
      "DemoHeuristicResult: reward: -8.65, fuel: 11.19, steps: 97.0, crashed: True, timeout: False, is_in_helipad: False, success: False\n",
      "DemoHeuristicResult: reward: 35.71, fuel: 25.02, steps: 165.0, crashed: True, timeout: False, is_in_helipad: True, success: False\n",
      "DemoHeuristicResult: reward: 42.63, fuel: 12.39, steps: 74.0, crashed: True, timeout: False, is_in_helipad: False, success: False\n",
      "DemoHeuristicResult: reward: 12.53, fuel: 18.99, steps: 109.0, crashed: True, timeout: False, is_in_helipad: False, success: False\n",
      "DemoHeuristicResult: reward: -34.36, fuel: 7.23, steps: 77.0, crashed: True, timeout: False, is_in_helipad: True, success: False\n",
      "DemoHeuristicResult: reward: 19.44, fuel: 13.59, steps: 87.0, crashed: True, timeout: False, is_in_helipad: True, success: False\n",
      "DemoHeuristicResult: reward: 45.43, fuel: 11.79, steps: 71.0, crashed: True, timeout: False, is_in_helipad: False, success: False\n",
      "DemoHeuristicResult: reward: -29.16, fuel: 7.86, steps: 81.0, crashed: True, timeout: False, is_in_helipad: False, success: False\n",
      "DemoHeuristicResult: reward: 22.00, fuel: 16.35, steps: 114.0, crashed: True, timeout: False, is_in_helipad: True, success: False\n",
      "DemoHeuristicResult: reward: -107.32, fuel: 27.09, steps: 137.0, crashed: True, timeout: False, is_in_helipad: False, success: False\n",
      "DemoHeuristicResult: reward: 187.78, fuel: 92.07, steps: 719.0, crashed: False, timeout: False, is_in_helipad: True, success: True\n",
      "DemoHeuristicResult: reward: -196.63, fuel: 37.95, steps: 356.0, crashed: True, timeout: False, is_in_helipad: False, success: False\n",
      "DemoHeuristicResult: reward: -16.43, fuel: 7.50, steps: 61.0, crashed: True, timeout: False, is_in_helipad: True, success: False\n",
      "DemoHeuristicResult: reward: 220.30, fuel: 31.92, steps: 364.0, crashed: False, timeout: False, is_in_helipad: False, success: False\n",
      "DemoHeuristicResult: reward: -28.62, fuel: 7.23, steps: 83.0, crashed: True, timeout: False, is_in_helipad: True, success: False\n",
      "DemoHeuristicResult: reward: -74.44, fuel: 9.15, steps: 96.0, crashed: True, timeout: False, is_in_helipad: False, success: False\n",
      "DemoHeuristicResult: reward: 27.44, fuel: 19.80, steps: 133.0, crashed: True, timeout: False, is_in_helipad: True, success: False\n",
      "DemoHeuristicResult: reward: -53.48, fuel: 6.93, steps: 88.0, crashed: True, timeout: False, is_in_helipad: False, success: False\n",
      "DemoHeuristicResult: reward: 268.72, fuel: 19.20, steps: 222.0, crashed: False, timeout: False, is_in_helipad: True, success: True\n",
      "DemoHeuristicResult: reward: 14.23, fuel: 11.10, steps: 95.0, crashed: True, timeout: False, is_in_helipad: True, success: False\n",
      "DemoHeuristicResult: reward: -40.38, fuel: 10.23, steps: 95.0, crashed: True, timeout: False, is_in_helipad: False, success: False\n",
      "DemoHeuristicResult: reward: -34.91, fuel: 18.78, steps: 135.0, crashed: True, timeout: False, is_in_helipad: False, success: False\n",
      "DemoHeuristicResult: reward: -20.10, fuel: 26.40, steps: 179.0, crashed: True, timeout: False, is_in_helipad: False, success: False\n"
     ]
    },
    {
     "name": "stdout",
     "output_type": "stream",
     "text": [
      "DemoHeuristicResult: reward: 207.28, fuel: 22.14, steps: 237.0, crashed: False, timeout: False, is_in_helipad: False, success: False\n",
      "DemoHeuristicResult: reward: 45.44, fuel: 19.77, steps: 137.0, crashed: True, timeout: False, is_in_helipad: True, success: False\n",
      "DemoHeuristicResult: reward: 3.51, fuel: 12.36, steps: 106.0, crashed: True, timeout: False, is_in_helipad: False, success: False\n",
      "DemoHeuristicResult: reward: -28.04, fuel: 7.53, steps: 89.0, crashed: True, timeout: False, is_in_helipad: True, success: False\n",
      "DemoHeuristicResult: reward: 49.80, fuel: 15.60, steps: 100.0, crashed: True, timeout: False, is_in_helipad: True, success: False\n",
      "DemoHeuristicResult: reward: 56.72, fuel: 12.51, steps: 70.0, crashed: True, timeout: False, is_in_helipad: True, success: False\n",
      "DemoHeuristicResult: reward: 4.88, fuel: 13.71, steps: 110.0, crashed: True, timeout: False, is_in_helipad: True, success: False\n",
      "DemoHeuristicResult: reward: 12.12, fuel: 29.85, steps: 202.0, crashed: True, timeout: False, is_in_helipad: True, success: False\n",
      "DemoHeuristicResult: reward: 299.22, fuel: 32.94, steps: 303.0, crashed: False, timeout: False, is_in_helipad: True, success: True\n",
      "DemoHeuristicResult: reward: 208.81, fuel: 39.36, steps: 399.0, crashed: False, timeout: False, is_in_helipad: False, success: False\n",
      "DemoHeuristicResult: reward: -21.85, fuel: 8.52, steps: 84.0, crashed: True, timeout: False, is_in_helipad: False, success: False\n",
      "DemoHeuristicResult: reward: -90.02, fuel: 39.48, steps: 325.0, crashed: True, timeout: False, is_in_helipad: False, success: False\n",
      "DemoHeuristicResult: reward: -106.99, fuel: 20.46, steps: 151.0, crashed: True, timeout: False, is_in_helipad: False, success: False\n",
      "DemoHeuristicResult: reward: -16.21, fuel: 12.45, steps: 101.0, crashed: True, timeout: False, is_in_helipad: False, success: False\n",
      "DemoHeuristicResult: reward: 1.98, fuel: 16.56, steps: 123.0, crashed: True, timeout: False, is_in_helipad: True, success: False\n",
      "DemoHeuristicResult: reward: 1.48, fuel: 18.33, steps: 127.0, crashed: True, timeout: False, is_in_helipad: False, success: False\n",
      "DemoHeuristicResult: reward: -32.24, fuel: 8.10, steps: 64.0, crashed: True, timeout: False, is_in_helipad: False, success: False\n",
      "DemoHeuristicResult: reward: 21.25, fuel: 13.47, steps: 87.0, crashed: True, timeout: False, is_in_helipad: True, success: False\n",
      "DemoHeuristicResult: reward: -7.54, fuel: 11.82, steps: 88.0, crashed: True, timeout: False, is_in_helipad: False, success: False\n",
      "DemoHeuristicResult: reward: 258.85, fuel: 17.16, steps: 235.0, crashed: False, timeout: False, is_in_helipad: False, success: False\n",
      "DemoHeuristicResult: reward: 14.45, fuel: 9.00, steps: 71.0, crashed: True, timeout: False, is_in_helipad: True, success: False\n",
      "DemoHeuristicResult: reward: 188.27, fuel: 54.96, steps: 628.0, crashed: False, timeout: False, is_in_helipad: False, success: False\n"
     ]
    }
   ],
   "source": [
    "num_initial_points = 1\n",
    "initial_query_points = search_space.sample(1)\n",
    "initial_data = lander_observer(initial_query_points)\n",
    "\n",
    "# collect points until we have at least one in each dataset\n",
    "while any(len(initial_data[tag]) < search_space.dimension for tag in initial_data):\n",
    "    initial_query_points = search_space.sample(1)\n",
    "    new_initial_data = lander_observer(initial_query_points)\n",
    "    for tag in initial_data:\n",
    "        initial_data[tag] = initial_data[tag] + new_initial_data[tag]\n",
    "    num_initial_points += 1"
   ]
  },
  {
   "cell_type": "code",
   "execution_count": 5,
   "id": "b30d0498",
   "metadata": {},
   "outputs": [
    {
     "name": "stdout",
     "output_type": "stream",
     "text": [
      "12\n",
      "88\n"
     ]
    }
   ],
   "source": [
    "print(len(initial_data[OBJECTIVE]))\n",
    "print(len(initial_data[FAILURE]))"
   ]
  },
  {
   "cell_type": "code",
   "execution_count": 6,
   "id": "74b85a3e",
   "metadata": {},
   "outputs": [],
   "source": [
    "import gpflow\n",
    "\n",
    "\n",
    "def create_regression_model(data):\n",
    "    variance = tf.math.reduce_variance(data.observations)\n",
    "    kernel = gpflow.kernels.Matern52(variance, lengthscales=[0.2]*int(search_space.dimension))\n",
    "    scale = tf.constant(1.0, dtype=tf.float64)\n",
    "    kernel.variance.prior = tfp.distributions.LogNormal(\n",
    "        tf.constant(-2.0, dtype=tf.float64), scale\n",
    "    )\n",
    "    kernel.lengthscales.prior = tfp.distributions.LogNormal(\n",
    "        tf.math.log(kernel.lengthscales), scale\n",
    "    )\n",
    "    gpr = gpflow.models.GPR(data.astuple(), kernel)\n",
    "    return gpr\n",
    "\n",
    "\n",
    "def create_classification_model(data):\n",
    "    kernel = gpflow.kernels.SquaredExponential(\n",
    "        lengthscales=[0.2]*int(search_space.dimension)\n",
    "    )\n",
    "    likelihood = gpflow.likelihoods.Bernoulli()\n",
    "    vgp = gpflow.models.VGP(data.astuple(), kernel, likelihood)\n",
    "    return vgp\n",
    "\n",
    "from trieste.models.gpflow import GPflowModelConfig\n",
    "\n",
    "classification_model_config_args = {\n",
    "    \"model_args\": {\"use_natgrads\": True},\n",
    "    \"optimizer\": tf.optimizers.Adam(1e-3),\n",
    "    \"optimizer_args\": {\"max_iter\": 50},\n",
    "}\n",
    "models = {\n",
    "    OBJECTIVE: GPflowModelConfig(**{\n",
    "        \"model\": create_regression_model(initial_data[OBJECTIVE]),\n",
    "        \"optimizer\": gpflow.optimizers.Scipy(),\n",
    "    }),\n",
    "    FAILURE: GPflowModelConfig(\n",
    "        create_classification_model(initial_data[FAILURE]),\n",
    "        **classification_model_config_args\n",
    "    )\n",
    "}"
   ]
  },
  {
   "cell_type": "code",
   "execution_count": 7,
   "id": "9d308523",
   "metadata": {},
   "outputs": [],
   "source": [
    "from trieste.acquisition.rule import EfficientGlobalOptimization\n",
    "from trieste.acquisition import (\n",
    "    SingleModelAcquisitionBuilder, ExpectedConstrainedImprovement, LocalPenalizationAcquisitionFunction\n",
    ")\n",
    "\n",
    "BATCH_SIZE = 10\n",
    "ITERATIONS = 10\n",
    "\n",
    "class ProbabilityOfValidity(SingleModelAcquisitionBuilder):\n",
    "    def prepare_acquisition_function(self, model, dataset=None):\n",
    "        def acquisition(at):\n",
    "            mean, _ = model.predict_y(tf.squeeze(at, -2))\n",
    "            return mean\n",
    "        return acquisition\n",
    "\n",
    "pov = ProbabilityOfValidity().using(FAILURE)\n",
    "eci = ExpectedConstrainedImprovement(\n",
    "    OBJECTIVE, pov, min_feasibility_probability = 0.0\n",
    ")\n",
    "lp = LocalPenalizationAcquisitionFunction(search_space, base_acquisition_function_builder=eci)\n",
    "rule = EfficientGlobalOptimization(lp, num_query_points=BATCH_SIZE)"
   ]
  },
  {
   "cell_type": "code",
   "execution_count": 8,
   "id": "be009d8c",
   "metadata": {},
   "outputs": [
    {
     "name": "stderr",
     "output_type": "stream",
     "text": [
      "2021-11-12 13:15:53.661604: W tensorflow/python/util/util.cc:348] Sets are not currently considered sequences, but this may change in the future, so consider avoiding using them.\n",
      "2021-11-12 13:15:54.603669: I tensorflow/compiler/mlir/mlir_graph_optimization_pass.cc:176] None of the MLIR Optimization Passes are enabled (registered 2)\n",
      "2021-11-12 13:15:54.626983: I tensorflow/core/platform/profile_utils/cpu_utils.cc:114] CPU Frequency: 3600000000 Hz\n"
     ]
    },
    {
     "name": "stdout",
     "output_type": "stream",
     "text": [
      "DemoHeuristicResult: reward: 299.61, fuel: 30.99, steps: 248.0, crashed: False, timeout: False, is_in_helipad: True, success: True\n",
      "DemoHeuristicResult: reward: -58.06, fuel: 159.09, steps: 1001.0, crashed: False, timeout: True, is_in_helipad: False, success: False\n",
      "DemoHeuristicResult: reward: -103.71, fuel: 32.46, steps: 196.0, crashed: True, timeout: False, is_in_helipad: False, success: False\n",
      "DemoHeuristicResult: reward: 38.59, fuel: 148.59, steps: 1001.0, crashed: False, timeout: True, is_in_helipad: False, success: False\n",
      "DemoHeuristicResult: reward: -152.91, fuel: 23.76, steps: 146.0, crashed: True, timeout: False, is_in_helipad: False, success: False\n",
      "DemoHeuristicResult: reward: 29.16, fuel: 144.54, steps: 1001.0, crashed: False, timeout: True, is_in_helipad: False, success: False\n",
      "DemoHeuristicResult: reward: -36.37, fuel: 6.09, steps: 54.0, crashed: True, timeout: False, is_in_helipad: False, success: False\n",
      "DemoHeuristicResult: reward: -143.28, fuel: 21.96, steps: 142.0, crashed: True, timeout: False, is_in_helipad: False, success: False\n",
      "DemoHeuristicResult: reward: -57.60, fuel: 6.93, steps: 63.0, crashed: True, timeout: False, is_in_helipad: False, success: False\n",
      "DemoHeuristicResult: reward: 184.92, fuel: 42.54, steps: 347.0, crashed: False, timeout: False, is_in_helipad: True, success: True\n",
      "DemoHeuristicResult: reward: 27.88, fuel: 133.65, steps: 1001.0, crashed: False, timeout: True, is_in_helipad: False, success: False\n",
      "DemoHeuristicResult: reward: 52.68, fuel: 141.87, steps: 1001.0, crashed: False, timeout: True, is_in_helipad: False, success: False\n",
      "DemoHeuristicResult: reward: -121.15, fuel: 15.81, steps: 120.0, crashed: True, timeout: False, is_in_helipad: False, success: False\n",
      "DemoHeuristicResult: reward: -158.45, fuel: 21.06, steps: 134.0, crashed: True, timeout: False, is_in_helipad: False, success: False\n",
      "DemoHeuristicResult: reward: -8.35, fuel: 175.08, steps: 1001.0, crashed: False, timeout: True, is_in_helipad: False, success: False\n",
      "DemoHeuristicResult: reward: -63.26, fuel: 9.36, steps: 101.0, crashed: True, timeout: False, is_in_helipad: False, success: False\n",
      "DemoHeuristicResult: reward: -208.95, fuel: 78.63, steps: 542.0, crashed: True, timeout: False, is_in_helipad: False, success: False\n",
      "DemoHeuristicResult: reward: -79.47, fuel: 3.96, steps: 65.0, crashed: True, timeout: False, is_in_helipad: False, success: False\n",
      "DemoHeuristicResult: reward: 19.37, fuel: 150.72, steps: 1001.0, crashed: False, timeout: True, is_in_helipad: False, success: False\n",
      "DemoHeuristicResult: reward: -30.21, fuel: 6.90, steps: 64.0, crashed: True, timeout: False, is_in_helipad: True, success: False\n",
      "DemoHeuristicResult: reward: 230.01, fuel: 27.57, steps: 206.0, crashed: False, timeout: False, is_in_helipad: True, success: True\n",
      "DemoHeuristicResult: reward: 34.47, fuel: 158.49, steps: 1001.0, crashed: False, timeout: True, is_in_helipad: False, success: False\n",
      "DemoHeuristicResult: reward: -36.01, fuel: 12.42, steps: 110.0, crashed: True, timeout: False, is_in_helipad: False, success: False\n",
      "DemoHeuristicResult: reward: -142.73, fuel: 23.52, steps: 169.0, crashed: True, timeout: False, is_in_helipad: False, success: False\n",
      "DemoHeuristicResult: reward: -123.39, fuel: 16.05, steps: 112.0, crashed: True, timeout: False, is_in_helipad: False, success: False\n",
      "DemoHeuristicResult: reward: 59.74, fuel: 155.88, steps: 1001.0, crashed: False, timeout: True, is_in_helipad: False, success: False\n",
      "DemoHeuristicResult: reward: 45.18, fuel: 155.16, steps: 1001.0, crashed: False, timeout: True, is_in_helipad: False, success: False\n",
      "DemoHeuristicResult: reward: 17.46, fuel: 13.59, steps: 105.0, crashed: True, timeout: False, is_in_helipad: True, success: False\n",
      "DemoHeuristicResult: reward: -20.07, fuel: 9.57, steps: 67.0, crashed: True, timeout: False, is_in_helipad: False, success: False\n",
      "DemoHeuristicResult: reward: -18.73, fuel: 9.30, steps: 76.0, crashed: True, timeout: False, is_in_helipad: True, success: False\n",
      "DemoHeuristicResult: reward: -31.64, fuel: 31.35, steps: 184.0, crashed: True, timeout: False, is_in_helipad: False, success: False\n",
      "DemoHeuristicResult: reward: 39.50, fuel: 136.71, steps: 1001.0, crashed: False, timeout: True, is_in_helipad: False, success: False\n",
      "DemoHeuristicResult: reward: -114.17, fuel: 24.42, steps: 157.0, crashed: True, timeout: False, is_in_helipad: False, success: False\n",
      "DemoHeuristicResult: reward: -191.65, fuel: 28.29, steps: 164.0, crashed: True, timeout: False, is_in_helipad: False, success: False\n",
      "DemoHeuristicResult: reward: -173.81, fuel: 12.84, steps: 120.0, crashed: True, timeout: False, is_in_helipad: False, success: False\n",
      "DemoHeuristicResult: reward: 76.83, fuel: 153.51, steps: 1001.0, crashed: False, timeout: True, is_in_helipad: False, success: False\n",
      "DemoHeuristicResult: reward: 187.30, fuel: 100.59, steps: 743.0, crashed: False, timeout: False, is_in_helipad: True, success: True\n",
      "DemoHeuristicResult: reward: -204.24, fuel: 15.66, steps: 104.0, crashed: True, timeout: False, is_in_helipad: False, success: False\n",
      "DemoHeuristicResult: reward: -79.42, fuel: 7.50, steps: 61.0, crashed: True, timeout: False, is_in_helipad: False, success: False\n",
      "DemoHeuristicResult: reward: -131.29, fuel: 47.52, steps: 268.0, crashed: True, timeout: False, is_in_helipad: False, success: False\n",
      "DemoHeuristicResult: reward: 56.34, fuel: 143.19, steps: 1001.0, crashed: False, timeout: True, is_in_helipad: False, success: False\n",
      "DemoHeuristicResult: reward: -134.78, fuel: 25.65, steps: 143.0, crashed: True, timeout: False, is_in_helipad: False, success: False\n",
      "DemoHeuristicResult: reward: -73.83, fuel: 20.49, steps: 144.0, crashed: True, timeout: False, is_in_helipad: False, success: False\n",
      "DemoHeuristicResult: reward: 25.76, fuel: 14.97, steps: 94.0, crashed: True, timeout: False, is_in_helipad: True, success: False\n",
      "DemoHeuristicResult: reward: -232.24, fuel: 18.39, steps: 109.0, crashed: True, timeout: False, is_in_helipad: False, success: False\n",
      "DemoHeuristicResult: reward: -306.24, fuel: 82.20, steps: 535.0, crashed: True, timeout: False, is_in_helipad: False, success: False\n",
      "DemoHeuristicResult: reward: -70.01, fuel: 149.25, steps: 1001.0, crashed: False, timeout: True, is_in_helipad: False, success: False\n",
      "DemoHeuristicResult: reward: -143.10, fuel: 58.86, steps: 373.0, crashed: True, timeout: False, is_in_helipad: False, success: False\n",
      "DemoHeuristicResult: reward: 24.76, fuel: 23.28, steps: 146.0, crashed: True, timeout: False, is_in_helipad: True, success: False\n",
      "DemoHeuristicResult: reward: -114.55, fuel: 24.78, steps: 118.0, crashed: True, timeout: False, is_in_helipad: False, success: False\n",
      "DemoHeuristicResult: reward: 24.16, fuel: 135.00, steps: 1001.0, crashed: False, timeout: True, is_in_helipad: False, success: False\n",
      "DemoHeuristicResult: reward: -21.42, fuel: 127.80, steps: 1001.0, crashed: False, timeout: True, is_in_helipad: False, success: False\n",
      "DemoHeuristicResult: reward: 14.61, fuel: 143.70, steps: 1001.0, crashed: False, timeout: True, is_in_helipad: False, success: False\n",
      "DemoHeuristicResult: reward: 3.56, fuel: 126.96, steps: 1001.0, crashed: False, timeout: True, is_in_helipad: False, success: False\n",
      "DemoHeuristicResult: reward: 9.12, fuel: 97.80, steps: 1001.0, crashed: False, timeout: True, is_in_helipad: False, success: False\n",
      "DemoHeuristicResult: reward: -24.96, fuel: 9.69, steps: 62.0, crashed: True, timeout: False, is_in_helipad: False, success: False\n",
      "DemoHeuristicResult: reward: 41.88, fuel: 174.96, steps: 1001.0, crashed: False, timeout: True, is_in_helipad: False, success: False\n",
      "DemoHeuristicResult: reward: 14.33, fuel: 161.13, steps: 1001.0, crashed: False, timeout: True, is_in_helipad: False, success: False\n",
      "DemoHeuristicResult: reward: -51.09, fuel: 15.45, steps: 125.0, crashed: True, timeout: False, is_in_helipad: False, success: False\n",
      "DemoHeuristicResult: reward: 39.56, fuel: 175.62, steps: 1001.0, crashed: False, timeout: True, is_in_helipad: False, success: False\n",
      "DemoHeuristicResult: reward: -219.92, fuel: 40.17, steps: 358.0, crashed: True, timeout: False, is_in_helipad: False, success: False\n",
      "DemoHeuristicResult: reward: 28.03, fuel: 156.63, steps: 1001.0, crashed: False, timeout: True, is_in_helipad: False, success: False\n",
      "DemoHeuristicResult: reward: -236.68, fuel: 21.69, steps: 139.0, crashed: True, timeout: False, is_in_helipad: False, success: False\n"
     ]
    },
    {
     "name": "stdout",
     "output_type": "stream",
     "text": [
      "DemoHeuristicResult: reward: 9.47, fuel: 115.08, steps: 1001.0, crashed: False, timeout: True, is_in_helipad: False, success: False\n",
      "DemoHeuristicResult: reward: 4.94, fuel: 133.71, steps: 1001.0, crashed: False, timeout: True, is_in_helipad: False, success: False\n",
      "DemoHeuristicResult: reward: -58.10, fuel: 5.10, steps: 85.0, crashed: True, timeout: False, is_in_helipad: True, success: False\n",
      "DemoHeuristicResult: reward: -29.15, fuel: 12.72, steps: 98.0, crashed: True, timeout: False, is_in_helipad: False, success: False\n",
      "DemoHeuristicResult: reward: 22.90, fuel: 171.00, steps: 1001.0, crashed: False, timeout: True, is_in_helipad: False, success: False\n",
      "DemoHeuristicResult: reward: -54.19, fuel: 137.52, steps: 1001.0, crashed: False, timeout: True, is_in_helipad: False, success: False\n",
      "DemoHeuristicResult: reward: -38.32, fuel: 8.31, steps: 61.0, crashed: True, timeout: False, is_in_helipad: True, success: False\n",
      "DemoHeuristicResult: reward: -22.19, fuel: 15.15, steps: 80.0, crashed: True, timeout: False, is_in_helipad: False, success: False\n",
      "DemoHeuristicResult: reward: -74.84, fuel: 40.62, steps: 261.0, crashed: True, timeout: False, is_in_helipad: False, success: False\n",
      "DemoHeuristicResult: reward: 22.41, fuel: 154.71, steps: 1001.0, crashed: False, timeout: True, is_in_helipad: False, success: False\n",
      "DemoHeuristicResult: reward: -75.99, fuel: 4.29, steps: 84.0, crashed: True, timeout: False, is_in_helipad: False, success: False\n",
      "DemoHeuristicResult: reward: -76.09, fuel: 14.16, steps: 99.0, crashed: True, timeout: False, is_in_helipad: False, success: False\n",
      "DemoHeuristicResult: reward: 180.30, fuel: 50.70, steps: 466.0, crashed: False, timeout: False, is_in_helipad: False, success: False\n",
      "DemoHeuristicResult: reward: -98.38, fuel: 10.62, steps: 100.0, crashed: True, timeout: False, is_in_helipad: False, success: False\n",
      "DemoHeuristicResult: reward: 47.17, fuel: 165.69, steps: 1001.0, crashed: False, timeout: True, is_in_helipad: False, success: False\n",
      "DemoHeuristicResult: reward: 8.44, fuel: 158.25, steps: 1001.0, crashed: False, timeout: True, is_in_helipad: False, success: False\n",
      "DemoHeuristicResult: reward: 227.70, fuel: 56.79, steps: 408.0, crashed: False, timeout: False, is_in_helipad: True, success: True\n",
      "DemoHeuristicResult: reward: 216.35, fuel: 56.52, steps: 408.0, crashed: False, timeout: False, is_in_helipad: True, success: True\n",
      "DemoHeuristicResult: reward: -359.66, fuel: 42.90, steps: 395.0, crashed: True, timeout: False, is_in_helipad: False, success: False\n",
      "DemoHeuristicResult: reward: 5.53, fuel: 24.75, steps: 159.0, crashed: True, timeout: False, is_in_helipad: True, success: False\n",
      "DemoHeuristicResult: reward: 63.50, fuel: 168.72, steps: 1001.0, crashed: False, timeout: True, is_in_helipad: False, success: False\n",
      "DemoHeuristicResult: reward: -250.89, fuel: 18.60, steps: 110.0, crashed: True, timeout: False, is_in_helipad: False, success: False\n",
      "DemoHeuristicResult: reward: -346.65, fuel: 133.68, steps: 950.0, crashed: True, timeout: False, is_in_helipad: False, success: False\n",
      "DemoHeuristicResult: reward: 44.41, fuel: 152.88, steps: 1001.0, crashed: False, timeout: True, is_in_helipad: False, success: False\n",
      "DemoHeuristicResult: reward: -137.28, fuel: 21.09, steps: 135.0, crashed: True, timeout: False, is_in_helipad: False, success: False\n",
      "DemoHeuristicResult: reward: -70.82, fuel: 7.56, steps: 80.0, crashed: True, timeout: False, is_in_helipad: False, success: False\n",
      "DemoHeuristicResult: reward: 1.74, fuel: 138.24, steps: 1001.0, crashed: False, timeout: True, is_in_helipad: False, success: False\n",
      "DemoHeuristicResult: reward: -213.26, fuel: 46.62, steps: 384.0, crashed: True, timeout: False, is_in_helipad: False, success: False\n",
      "DemoHeuristicResult: reward: 181.86, fuel: 82.44, steps: 561.0, crashed: False, timeout: False, is_in_helipad: True, success: True\n",
      "DemoHeuristicResult: reward: -122.93, fuel: 20.25, steps: 115.0, crashed: True, timeout: False, is_in_helipad: False, success: False\n",
      "DemoHeuristicResult: reward: -25.67, fuel: 163.95, steps: 1001.0, crashed: False, timeout: True, is_in_helipad: False, success: False\n",
      "DemoHeuristicResult: reward: -46.37, fuel: 9.42, steps: 99.0, crashed: True, timeout: False, is_in_helipad: False, success: False\n",
      "DemoHeuristicResult: reward: -99.54, fuel: 16.98, steps: 119.0, crashed: True, timeout: False, is_in_helipad: False, success: False\n",
      "DemoHeuristicResult: reward: -110.05, fuel: 23.82, steps: 131.0, crashed: True, timeout: False, is_in_helipad: False, success: False\n",
      "DemoHeuristicResult: reward: -176.55, fuel: 70.32, steps: 414.0, crashed: True, timeout: False, is_in_helipad: False, success: False\n",
      "DemoHeuristicResult: reward: 13.68, fuel: 156.69, steps: 1001.0, crashed: False, timeout: True, is_in_helipad: False, success: False\n",
      "DemoHeuristicResult: reward: 25.67, fuel: 155.76, steps: 1001.0, crashed: False, timeout: True, is_in_helipad: False, success: False\n",
      "Optimization completed without errors\n"
     ]
    }
   ],
   "source": [
    "bo = trieste.bayesian_optimizer.BayesianOptimizer(lander_observer, search_space)\n",
    "start = timeit.default_timer()\n",
    "result = bo.optimize(ITERATIONS, initial_data, models, rule).final_result.unwrap()\n",
    "stop = timeit.default_timer()"
   ]
  },
  {
   "cell_type": "code",
   "execution_count": 9,
   "id": "1d314fa1",
   "metadata": {},
   "outputs": [
    {
     "name": "stdout",
     "output_type": "stream",
     "text": [
      "Time taken: 168s\n"
     ]
    }
   ],
   "source": [
    "print(f\"Time taken: {stop - start:.0f}s\")"
   ]
  },
  {
   "cell_type": "code",
   "execution_count": 10,
   "id": "d055cb8f",
   "metadata": {},
   "outputs": [],
   "source": [
    "import matplotlib.pyplot as plt\n",
    "from trieste.acquisition.multi_objective.dominance import non_dominated\n",
    "\n",
    "# fancy code to import trieste notebook plotting utils\n",
    "import importlib.util\n",
    "spec = importlib.util.spec_from_file_location(\"plotting\", \"../docs/notebooks/util/plotting.py\")\n",
    "plotting = importlib.util.module_from_spec(spec)\n",
    "spec.loader.exec_module(plotting)"
   ]
  },
  {
   "cell_type": "code",
   "execution_count": 11,
   "id": "a0abebdc",
   "metadata": {},
   "outputs": [
    {
     "data": {
      "image/png": "[encoded data removed]",
      "text/plain": [
       "<Figure size 432x288 with 1 Axes>"
      ]
     },
     "metadata": {
      "needs_background": "light"
     },
     "output_type": "display_data"
    },
    {
     "data": {
      "image/png": "[encoded data removed]",
      "text/plain": [
       "<Figure size 432x288 with 1 Axes>"
      ]
     },
     "metadata": {
      "needs_background": "light"
     },
     "output_type": "display_data"
    }
   ],
   "source": [
    "all_query_points = result.datasets[FAILURE].query_points\n",
    "objective_model_values, _ = result.models[OBJECTIVE].predict(all_query_points)\n",
    "failure_model_values, _ = result.models[FAILURE].predict_y(all_query_points)\n",
    "\n",
    "plt.scatter(objective_model_values, 1-failure_model_values);\n",
    "plt.xlabel(\"Fuel spent, x0.01\");\n",
    "plt.ylabel(\"Probability of failure\");\n",
    "plt.show();\n",
    "\n",
    "points_in_objective_space = tf.concat([objective_model_values, 1-failure_model_values], axis=1)\n",
    "plotting.plot_mobo_points_in_obj_space(points_in_objective_space, num_init=num_initial_points)\n",
    "plt.xlabel(\"Fuel spent, x0.01\");\n",
    "plt.ylabel(\"Probability of failure\");\n",
    "plt.show();"
   ]
  },
  {
   "cell_type": "code",
   "execution_count": 12,
   "id": "fcfbedee",
   "metadata": {},
   "outputs": [
    {
     "data": {
      "image/png": "[encoded data removed]",
      "text/plain": [
       "<Figure size 432x288 with 1 Axes>"
      ]
     },
     "metadata": {
      "needs_background": "light"
     },
     "output_type": "display_data"
    }
   ],
   "source": [
    "many_random_points = search_space.sample(100000)\n",
    "objective_model_values, _ = result.models[OBJECTIVE].predict(many_random_points)\n",
    "failure_model_values, _ = result.models[FAILURE].predict_y(many_random_points)\n",
    "\n",
    "plt.scatter(objective_model_values, 1-failure_model_values)\n",
    "plt.xlabel(\"Fuel spent, x0.01\")\n",
    "plt.ylabel(\"Probability of failure\");\n",
    "plt.show();\n",
    "\n",
    "# this fails with OOM because of how non-dominated is implemented in Trieste\n",
    "# we may want to optimize it for large volumes\n",
    "# points_in_objective_space = tf.concat([objective_model_values, 1-failure_model_values], axis=1)\n",
    "# plotting.plot_mobo_points_in_obj_space(points_in_objective_space, num_init=0)\n",
    "# plt.xlabel(\"Fuel spent, x0.01\")\n",
    "# plt.ylabel(\"Probability of failure\");\n",
    "# plt.show();"
   ]
  },
  {
   "cell_type": "code",
   "execution_count": 13,
   "id": "76fd3b6c",
   "metadata": {
    "scrolled": true
   },
   "outputs": [
    {
     "data": {
      "text/html": [
       "&lt;gpflow.models.gpr.GPR object at 0x7f31985fc090&gt;\n",
       "<table>\n",
       "<thead>\n",
       "<tr><th>name                   </th><th>class           </th><th>transform       </th><th>prior    </th><th>trainable  </th><th>shape     </th><th>dtype  </th><th>value                                  </th></tr>\n",
       "</thead>\n",
       "<tbody>\n",
       "<tr><td>GPR.kernel.variance    </td><td>Parameter       </td><td>Softplus        </td><td>LogNormal</td><td>True       </td><td>()        </td><td>float64</td><td>0.0525346492071892                     </td></tr>\n",
       "<tr><td>GPR.kernel.lengthscales</td><td>Parameter       </td><td>Softplus        </td><td>LogNormal</td><td>True       </td><td>(12,)     </td><td>float64</td><td>[0.08090327, 0.08218944, 0.0740441...  </td></tr>\n",
       "<tr><td>GPR.likelihood.variance</td><td>Parameter       </td><td>Softplus + Shift</td><td>         </td><td>True       </td><td>()        </td><td>float64</td><td>0.18662840197351224                    </td></tr>\n",
       "<tr><td>GPR.data[0]            </td><td>ResourceVariable</td><td>                </td><td>         </td><td>False      </td><td>(None, 12)</td><td>float64</td><td>[[0.48237185, 0.87093382, 0.46212477...</td></tr>\n",
       "<tr><td>GPR.data[1]            </td><td>ResourceVariable</td><td>                </td><td>         </td><td>False      </td><td>(None, 1) </td><td>float64</td><td>[[0.1716...                            </td></tr>\n",
       "</tbody>\n",
       "</table>"
      ],
      "text/plain": [
       "<gpflow.models.gpr.GPR object at 0x7f31985fc090>\n",
       "╒═════════════════════════╤══════════════════╤══════════════════╤═══════════╤═════════════╤════════════╤═════════╤═════════════════════════════════════════╕\n",
       "│ name                    │ class            │ transform        │ prior     │ trainable   │ shape      │ dtype   │ value                                   │\n",
       "╞═════════════════════════╪══════════════════╪══════════════════╪═══════════╪═════════════╪════════════╪═════════╪═════════════════════════════════════════╡\n",
       "│ GPR.kernel.variance     │ Parameter        │ Softplus         │ LogNormal │ True        │ ()         │ float64 │ 0.0525346492071892                      │\n",
       "├─────────────────────────┼──────────────────┼──────────────────┼───────────┼─────────────┼────────────┼─────────┼─────────────────────────────────────────┤\n",
       "│ GPR.kernel.lengthscales │ Parameter        │ Softplus         │ LogNormal │ True        │ (12,)      │ float64 │ [0.08090327, 0.08218944, 0.0740441...   │\n",
       "├─────────────────────────┼──────────────────┼──────────────────┼───────────┼─────────────┼────────────┼─────────┼─────────────────────────────────────────┤\n",
       "│ GPR.likelihood.variance │ Parameter        │ Softplus + Shift │           │ True        │ ()         │ float64 │ 0.18662840197351224                     │\n",
       "├─────────────────────────┼──────────────────┼──────────────────┼───────────┼─────────────┼────────────┼─────────┼─────────────────────────────────────────┤\n",
       "│ GPR.data[0]             │ ResourceVariable │                  │           │ False       │ (None, 12) │ float64 │ [[0.48237185, 0.87093382, 0.46212477... │\n",
       "├─────────────────────────┼──────────────────┼──────────────────┼───────────┼─────────────┼────────────┼─────────┼─────────────────────────────────────────┤\n",
       "│ GPR.data[1]             │ ResourceVariable │                  │           │ False       │ (None, 1)  │ float64 │ [[0.1716...                             │\n",
       "╘═════════════════════════╧══════════════════╧══════════════════╧═══════════╧═════════════╧════════════╧═════════╧═════════════════════════════════════════╛"
      ]
     },
     "execution_count": 13,
     "metadata": {},
     "output_type": "execute_result"
    }
   ],
   "source": [
    "result.models[OBJECTIVE]._model"
   ]
  },
  {
   "cell_type": "code",
   "execution_count": 14,
   "id": "76f3f2df",
   "metadata": {},
   "outputs": [
    {
     "data": {
      "text/plain": [
       "<Parameter: dtype=float64, shape=[12], fn=\"softplus\", numpy=\n",
       "array([0.08090327, 0.08218944, 0.0740441 , 0.07409123, 0.073942  ,\n",
       "       0.0740974 , 0.07427585, 0.07401172, 0.07387348, 0.07419342,\n",
       "       0.07374907, 0.07394773])>"
      ]
     },
     "execution_count": 14,
     "metadata": {},
     "output_type": "execute_result"
    }
   ],
   "source": [
    "result.models[OBJECTIVE]._model.kernel.lengthscales"
   ]
  },
  {
   "cell_type": "code",
   "execution_count": 15,
   "id": "e22dc0ff",
   "metadata": {},
   "outputs": [
    {
     "data": {
      "text/html": [
       "&lt;trieste.models.gpflow.models.VGPWrapper object at 0x7f319867ced0&gt;\n",
       "<table>\n",
       "<thead>\n",
       "<tr><th>name                          </th><th>class           </th><th>transform     </th><th>prior  </th><th>trainable  </th><th>shape        </th><th>dtype  </th><th>value                                               </th></tr>\n",
       "</thead>\n",
       "<tbody>\n",
       "<tr><td>VGPWrapper.kernel.variance    </td><td>Parameter       </td><td>Softplus      </td><td>       </td><td>True       </td><td>()           </td><td>float64</td><td>0.9038484232479864                                  </td></tr>\n",
       "<tr><td>VGPWrapper.kernel.lengthscales</td><td>Parameter       </td><td>Softplus      </td><td>       </td><td>True       </td><td>(12,)        </td><td>float64</td><td>[0.3305468, 0.33452996, 0.33576735...               </td></tr>\n",
       "<tr><td>VGPWrapper.data[0]            </td><td>ResourceVariable</td><td>              </td><td>       </td><td>False      </td><td>(None, 12)   </td><td>float64</td><td>[[0.51184428, 1.19563535, 0.33553474...             </td></tr>\n",
       "<tr><td>VGPWrapper.data[1]            </td><td>ResourceVariable</td><td>              </td><td>       </td><td>False      </td><td>(None, 1)    </td><td>float64</td><td>[[0....                                             </td></tr>\n",
       "<tr><td>VGPWrapper.q_mu               </td><td>Parameter       </td><td>Identity      </td><td>       </td><td>True       </td><td>(188, 1)     </td><td>float64</td><td>[[-1.56421541e+00...                                </td></tr>\n",
       "<tr><td>VGPWrapper.q_sqrt             </td><td>Parameter       </td><td>FillTriangular</td><td>       </td><td>True       </td><td>(1, 188, 188)</td><td>float64</td><td>[[[6.04297543e-01, 0.00000000e+00, 0.00000000e+00...</td></tr>\n",
       "<tr><td>VGPWrapper._num_data          </td><td>ResourceVariable</td><td>              </td><td>       </td><td>False      </td><td>()           </td><td>float64</td><td>188.0                                               </td></tr>\n",
       "</tbody>\n",
       "</table>"
      ],
      "text/plain": [
       "<trieste.models.gpflow.models.VGPWrapper object at 0x7f319867ced0>\n",
       "╒════════════════════════════════╤══════════════════╤════════════════╤═════════╤═════════════╤═══════════════╤═════════╤══════════════════════════════════════════════════════╕\n",
       "│ name                           │ class            │ transform      │ prior   │ trainable   │ shape         │ dtype   │ value                                                │\n",
       "╞════════════════════════════════╪══════════════════╪════════════════╪═════════╪═════════════╪═══════════════╪═════════╪══════════════════════════════════════════════════════╡\n",
       "│ VGPWrapper.kernel.variance     │ Parameter        │ Softplus       │         │ True        │ ()            │ float64 │ 0.9038484232479864                                   │\n",
       "├────────────────────────────────┼──────────────────┼────────────────┼─────────┼─────────────┼───────────────┼─────────┼──────────────────────────────────────────────────────┤\n",
       "│ VGPWrapper.kernel.lengthscales │ Parameter        │ Softplus       │         │ True        │ (12,)         │ float64 │ [0.3305468, 0.33452996, 0.33576735...                │\n",
       "├────────────────────────────────┼──────────────────┼────────────────┼─────────┼─────────────┼───────────────┼─────────┼──────────────────────────────────────────────────────┤\n",
       "│ VGPWrapper.data[0]             │ ResourceVariable │                │         │ False       │ (None, 12)    │ float64 │ [[0.51184428, 1.19563535, 0.33553474...              │\n",
       "├────────────────────────────────┼──────────────────┼────────────────┼─────────┼─────────────┼───────────────┼─────────┼──────────────────────────────────────────────────────┤\n",
       "│ VGPWrapper.data[1]             │ ResourceVariable │                │         │ False       │ (None, 1)     │ float64 │ [[0....                                              │\n",
       "├────────────────────────────────┼──────────────────┼────────────────┼─────────┼─────────────┼───────────────┼─────────┼──────────────────────────────────────────────────────┤\n",
       "│ VGPWrapper.q_mu                │ Parameter        │ Identity       │         │ True        │ (188, 1)      │ float64 │ [[-1.56421541e+00...                                 │\n",
       "├────────────────────────────────┼──────────────────┼────────────────┼─────────┼─────────────┼───────────────┼─────────┼──────────────────────────────────────────────────────┤\n",
       "│ VGPWrapper.q_sqrt              │ Parameter        │ FillTriangular │         │ True        │ (1, 188, 188) │ float64 │ [[[6.04297543e-01, 0.00000000e+00, 0.00000000e+00... │\n",
       "├────────────────────────────────┼──────────────────┼────────────────┼─────────┼─────────────┼───────────────┼─────────┼──────────────────────────────────────────────────────┤\n",
       "│ VGPWrapper._num_data           │ ResourceVariable │                │         │ False       │ ()            │ float64 │ 188.0                                                │\n",
       "╘════════════════════════════════╧══════════════════╧════════════════╧═════════╧═════════════╧═══════════════╧═════════╧══════════════════════════════════════════════════════╛"
      ]
     },
     "execution_count": 15,
     "metadata": {},
     "output_type": "execute_result"
    }
   ],
   "source": [
    "result.models[FAILURE]._model"
   ]
  },
  {
   "cell_type": "code",
   "execution_count": 16,
   "id": "7587a672",
   "metadata": {},
   "outputs": [
    {
     "data": {
      "text/plain": [
       "<Parameter: dtype=float64, shape=[12], fn=\"softplus\", numpy=\n",
       "array([0.3305468 , 0.33452996, 0.33576735, 0.34321354, 0.33307325,\n",
       "       0.3405225 , 0.33783622, 0.33069914, 0.36497063, 0.33461717,\n",
       "       0.19705819, 0.33865138])>"
      ]
     },
     "execution_count": 16,
     "metadata": {},
     "output_type": "execute_result"
    }
   ],
   "source": [
    "result.models[FAILURE]._model.kernel.lengthscales"
   ]
  },
  {
   "cell_type": "code",
   "execution_count": 17,
   "id": "5ebf9b1c",
   "metadata": {},
   "outputs": [],
   "source": [
    "def probability_of_failure(point, n_tries=100):\n",
    "    if not isinstance(point, np.ndarray):\n",
    "        point = point.numpy()\n",
    "\n",
    "    assert point.shape == (int(search_space.dimension),)\n",
    "\n",
    "    n_failures = 0\n",
    "    for _ in range(n_tries):\n",
    "        result = demo_heuristic_lander(lunar_lander.LunarLander(), point, print_result=False)\n",
    "        if result.timeout or result.has_crashed:\n",
    "            n_failures += 1\n",
    "    \n",
    "    return n_failures / n_tries"
   ]
  },
  {
   "cell_type": "code",
   "execution_count": 18,
   "id": "c1e2de4a",
   "metadata": {},
   "outputs": [],
   "source": [
    "all_query_points = result.datasets[FAILURE].query_points\n",
    "objective_model_values, _ = result.models[OBJECTIVE].predict(all_query_points)\n",
    "failure_model_values, _ = result.models[FAILURE].predict_y(all_query_points)"
   ]
  },
  {
   "cell_type": "code",
   "execution_count": 19,
   "id": "ed07d072",
   "metadata": {},
   "outputs": [],
   "source": [
    "pf_points, _ = non_dominated(tf.concat([objective_model_values, 1-failure_model_values], axis=1))\n",
    "pf_input_points = []\n",
    "for pf_point in pf_points:\n",
    "    pf_input_point = tf.boolean_mask(all_query_points, tf.equal(objective_model_values, pf_point[0])[:,0])\n",
    "    if len(pf_input_point) > 1:\n",
    "        pf_input_point = pf_input_point[0:1, :]\n",
    "    pf_input_points.append(pf_input_point)\n",
    "pf_input_points = tf.concat(pf_input_points, axis=0)"
   ]
  },
  {
   "cell_type": "code",
   "execution_count": 20,
   "id": "a64dd4f5",
   "metadata": {},
   "outputs": [],
   "source": [
    "failure_actual_values = [\n",
    "    probability_of_failure(p) for p in pf_input_points\n",
    "]"
   ]
  },
  {
   "cell_type": "code",
   "execution_count": 22,
   "id": "b4910d3b",
   "metadata": {},
   "outputs": [
    {
     "data": {
      "image/png": "[encoded data removed]",
      "text/plain": [
       "<Figure size 864x864 with 1 Axes>"
      ]
     },
     "metadata": {
      "needs_background": "light"
     },
     "output_type": "display_data"
    }
   ],
   "source": [
    "points_in_objective_space = tf.concat([objective_model_values, 1-failure_model_values], axis=1)\n",
    "\n",
    "mean, variance = result.models[FAILURE].predict(pf_input_points)\n",
    "\n",
    "# failure_lower_conf_bounds, _ = result.models[FAILURE]._model.likelihood.predict_mean_and_var(\n",
    "#     mean - 2 * tf.sqrt(variance), variance)\n",
    "# failure_upper_conf_bounds, _ = result.models[FAILURE]._model.likelihood.predict_mean_and_var(\n",
    "#     mean + 2 * tf.sqrt(variance), variance)\n",
    "\n",
    "failure_lower_conf_bounds = result.models[FAILURE]._model.likelihood.invlink(mean - 2 * tf.sqrt(variance))\n",
    "failure_upper_conf_bounds = result.models[FAILURE]._model.likelihood.invlink(mean + 2 * tf.sqrt(variance))\n",
    "\n",
    "mean, variance = result.models[OBJECTIVE].predict(pf_input_points)\n",
    "objective_lower_conf_bounds = mean - 2 * tf.sqrt(variance)\n",
    "objective_upper_conf_bounds = mean + 2 * tf.sqrt(variance)\n",
    "\n",
    "plotting.plot_mobo_points_in_obj_space(\n",
    "    points_in_objective_space,\n",
    "    num_init=num_initial_points,\n",
    "    only_plot_pareto=True,\n",
    "    figsize=(12,12)\n",
    ")\n",
    "plt.scatter(pf_points[:, 0], failure_actual_values, c='r')\n",
    "\n",
    "for i, (lower, upper) in enumerate(zip(1-failure_lower_conf_bounds, 1-failure_upper_conf_bounds)):\n",
    "    plt.plot((pf_points[i].numpy()[0], pf_points[i].numpy()[0]), (lower,upper), '_-',color='orange')\n",
    "\n",
    "for i, (lower, upper) in enumerate(zip(objective_lower_conf_bounds, objective_upper_conf_bounds)):\n",
    "    plt.plot((lower,upper), (pf_points[i].numpy()[1], pf_points[i].numpy()[1]), '|-',color='green')\n",
    "\n",
    "\n",
    "plt.xlabel(\"Fuel spent, x0.01\")\n",
    "plt.ylabel(\"Model probability of failure\");\n",
    "plt.show();"
   ]
  },
  {
   "cell_type": "code",
   "execution_count": null,
   "id": "c8028352",
   "metadata": {},
   "outputs": [],
   "source": []
  }
 ],
 "metadata": {
  "kernelspec": {
   "display_name": "Python 3 (ipykernel)",
   "language": "python",
   "name": "python3"
  },
  "language_info": {
   "codemirror_mode": {
    "name": "ipython",
    "version": 3
   },
   "file_extension": ".py",
   "mimetype": "text/x-python",
   "name": "python",
   "nbconvert_exporter": "python",
   "pygments_lexer": "ipython3",
   "version": "3.7.5"
  }
 },
 "nbformat": 4,
 "nbformat_minor": 5
}
