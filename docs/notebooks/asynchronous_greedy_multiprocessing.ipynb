{
 "cells": [
  {
   "cell_type": "markdown",
   "id": "6cd476e7",
   "metadata": {},
   "source": [
    "# Asynchronous Bayesian optimization with Trieste\n",
    "\n",
    "In this notebook we demonstrate Trieste's ability to perform asynchronous Bayesian optimisation, as is suitable for scenarios where the objective function can be run for several points in parallel but where observations might return back at different times. To avoid wasting resources waiting for the evaluation of the whole batch, we immediately request the next point asynchronously, taking into account points that are still being evaluated. Besides saving resources, asynchronous approach also can potentially [improve sample efficiency](https://arxiv.org/abs/1901.10452) in comparison with synchronous batch strategies, although this is highly dependent on the use case.\n",
    "\n",
    "To contrast this approach with regular [batch optimization](batch_optimization.ipynb), this notebook also shows how to run parallel synchronous batch approach."
   ]
  },
  {
   "cell_type": "code",
   "execution_count": 1,
   "id": "15aa71c7",
   "metadata": {
    "execution": {
     "iopub.execute_input": "2021-11-23T14:54:39.172254Z",
     "iopub.status.busy": "2021-11-23T14:54:39.171538Z",
     "iopub.status.idle": "2021-11-23T14:54:41.561615Z",
     "shell.execute_reply": "2021-11-23T14:54:41.560917Z"
    },
    "lines_to_next_cell": 2
   },
   "outputs": [],
   "source": [
    "# silence TF warnings and info messages, only print errors\n",
    "# https://stackoverflow.com/questions/35911252/disable-tensorflow-debugging-information\n",
    "import os\n",
    "os.environ[\"TF_CPP_MIN_LOG_LEVEL\"] = \"3\"\n",
    "import tensorflow as tf\n",
    "tf.get_logger().setLevel(\"ERROR\")\n",
    "import numpy as np\n",
    "import time\n",
    "import timeit"
   ]
  },
  {
   "cell_type": "markdown",
   "id": "f2a7218f",
   "metadata": {
    "lines_to_next_cell": 0
   },
   "source": [
    "First, let's define a simple objective that will emulate evaluations taking variable time. We will be using a classic Bayesian optimisation benchmark function [Branin](https://www.sfu.ca/~ssurjano/branin.html) with a sleep call inserted in the middle of the calculation to emulate delay. Our sleep delay is a scaled sum of all input values to make sure delays are uneven."
   ]
  },
  {
   "cell_type": "code",
   "execution_count": 2,
   "id": "0d8bdfa3",
   "metadata": {
    "execution": {
     "iopub.execute_input": "2021-11-23T14:54:41.569929Z",
     "iopub.status.busy": "2021-11-23T14:54:41.568485Z",
     "iopub.status.idle": "2021-11-23T14:54:42.239788Z",
     "shell.execute_reply": "2021-11-23T14:54:42.239010Z"
    }
   },
   "outputs": [
    {
     "data": {
      "text/plain": [
       "array([[-0.42052567]])"
      ]
     },
     "execution_count": 2,
     "metadata": {},
     "output_type": "execute_result"
    }
   ],
   "source": [
    "from trieste.objectives import scaled_branin\n",
    "\n",
    "def objective(points, sleep=True):\n",
    "    if points.shape[1] != 2:\n",
    "        raise ValueError(f\"Incorrect input shape, expected (*, 2), got {points.shape}\")\n",
    "\n",
    "    observations = []\n",
    "    for point in points:\n",
    "        observation = scaled_branin(point)\n",
    "        if sleep:\n",
    "            # insert some artificial delay\n",
    "            # increases linearly with the absolute value of points\n",
    "            # which means our evaluations will take different time\n",
    "            delay = 3 * np.sum(point)\n",
    "            pid = os.getpid()\n",
    "            print(\n",
    "                f\"Process {pid}: Objective: pretends like it's doing something for {delay:.2}s\",\n",
    "                flush=True,\n",
    "            )\n",
    "            time.sleep(delay)\n",
    "        observations.append(observation)\n",
    "\n",
    "    return np.array(observations)\n",
    "\n",
    "# test the defined objective function\n",
    "objective(np.array([[0.1, 0.5]]), sleep=False)"
   ]
  },
  {
   "cell_type": "markdown",
   "id": "adbe0eab",
   "metadata": {},
   "source": [
    "As always, we need to prepare the model and some initial data to kick-start the optimization process."
   ]
  },
  {
   "cell_type": "code",
   "execution_count": 3,
   "id": "06dc2b71",
   "metadata": {
    "execution": {
     "iopub.execute_input": "2021-11-23T14:54:42.250345Z",
     "iopub.status.busy": "2021-11-23T14:54:42.247709Z",
     "iopub.status.idle": "2021-11-23T14:54:42.264190Z",
     "shell.execute_reply": "2021-11-23T14:54:42.263648Z"
    },
    "lines_to_next_cell": 2
   },
   "outputs": [],
   "source": [
    "from trieste.space import Box\n",
    "from trieste.data import Dataset\n",
    "from trieste.objectives import SCALED_BRANIN_MINIMUM\n",
    "\n",
    "search_space = Box([0, 0], [1, 1])\n",
    "num_initial_points = 3\n",
    "initial_query_points = search_space.sample(num_initial_points)\n",
    "initial_observations = objective(initial_query_points.numpy(), sleep=False)\n",
    "initial_data = Dataset(\n",
    "    query_points=initial_query_points,\n",
    "    observations=tf.constant(initial_observations, dtype=tf.float64),\n",
    ")\n",
    "\n",
    "import gpflow\n",
    "from trieste.models.gpflow import GaussianProcessRegression\n",
    "\n",
    "\n",
    "def build_model(data):\n",
    "    variance = tf.math.reduce_variance(data.observations)\n",
    "    kernel = gpflow.kernels.RBF(variance=variance)\n",
    "    gpr = gpflow.models.GPR(data.astuple(), kernel, noise_variance=1e-5)\n",
    "    gpflow.set_trainable(gpr.likelihood, False)\n",
    "    return GaussianProcessRegression(gpr)\n",
    "\n",
    "# these imports will be used later for optimization\n",
    "from trieste.acquisition import LocalPenalizationAcquisitionFunction\n",
    "from trieste.acquisition.rule import AsynchronousGreedy, EfficientGlobalOptimization\n",
    "from trieste.ask_tell_optimization import AskTellOptimizer"
   ]
  },
  {
   "cell_type": "markdown",
   "id": "cfe91d2c",
   "metadata": {},
   "source": [
    "## Multiprocessing setup\n",
    "\n",
    "To keep this notebook as reproducible as possible, we will only be using Python's multiprocessing package here. In this section we will explain our setup and define some common code to be used later.\n",
    "\n",
    "In both synchronous and asynchronous scenarios we will have a fixed set of worker processes performing observations. We will also have a main process responsible for optimization process with Trieste. When Trieste suggests a new point, it is inserted into a points queue. One of the workers picks this point from the queue, performs the observation, and inserts the output into the observations queue. The main process then picks up the observation from the queue, at which moment it either waits for the rest of the points in the batch to come back (synchronous scenario) or immediately suggests a new point (asynchronous scenario). This process continues either for a certain number of iterations or until we accumulate necessary number of observations.\n",
    "\n",
    "The overall setup is illustrated in this diagram:\n",
    "![multiprocessing setup](figures/async_bo.png)"
   ]
  },
  {
   "cell_type": "code",
   "execution_count": 4,
   "id": "8aa4e5dc",
   "metadata": {
    "execution": {
     "iopub.execute_input": "2021-11-23T14:54:42.268676Z",
     "iopub.status.busy": "2021-11-23T14:54:42.268098Z",
     "iopub.status.idle": "2021-11-23T14:54:42.272407Z",
     "shell.execute_reply": "2021-11-23T14:54:42.271692Z"
    },
    "lines_to_next_cell": 1
   },
   "outputs": [],
   "source": [
    "# Necessary multiprocessing primitives\n",
    "from multiprocessing import Manager, Process"
   ]
  },
  {
   "cell_type": "markdown",
   "id": "2d184322",
   "metadata": {},
   "source": [
    "We now define several common functions to implement the described setup. First we define a worker function that will be running a single observation in a separate process. Worker takes both queues as an input, reads next point from the points queue, makes an observation, and inserts observed data into the observations queue."
   ]
  },
  {
   "cell_type": "code",
   "execution_count": 5,
   "id": "d56f168c",
   "metadata": {
    "execution": {
     "iopub.execute_input": "2021-11-23T14:54:42.278811Z",
     "iopub.status.busy": "2021-11-23T14:54:42.278184Z",
     "iopub.status.idle": "2021-11-23T14:54:42.283607Z",
     "shell.execute_reply": "2021-11-23T14:54:42.283065Z"
    },
    "lines_to_next_cell": 1
   },
   "outputs": [],
   "source": [
    "\n",
    "def observer_proc(points_queue, observations_queue):\n",
    "    pid = os.getpid()\n",
    "\n",
    "    while True:\n",
    "        point_to_observe = points_queue.get()\n",
    "        if point_to_observe is None:\n",
    "            return\n",
    "\n",
    "        print(f\"Process {pid}: Observer : observing data at point {point_to_observe}\", flush=True)\n",
    "        new_observation = objective(point_to_observe, sleep=enable_sleep_delays)\n",
    "        new_data = (point_to_observe, new_observation)\n",
    "\n",
    "        print(f\"Process {pid}: Observer : observed data {new_data}\", flush=True)\n",
    "\n",
    "        observations_queue.put(new_data)"
   ]
  },
  {
   "cell_type": "markdown",
   "id": "3ab4b42e",
   "metadata": {},
   "source": [
    "Next we define two helper functions, one is to create a certain number of worker processes, and another is to terminate them once we are done."
   ]
  },
  {
   "cell_type": "code",
   "execution_count": 6,
   "id": "342ba8a7",
   "metadata": {
    "execution": {
     "iopub.execute_input": "2021-11-23T14:54:42.290624Z",
     "iopub.status.busy": "2021-11-23T14:54:42.289873Z",
     "iopub.status.idle": "2021-11-23T14:54:42.292674Z",
     "shell.execute_reply": "2021-11-23T14:54:42.292038Z"
    },
    "lines_to_next_cell": 1
   },
   "outputs": [],
   "source": [
    "\n",
    "def create_worker_processes(n_workers, points_queue, obseverations_queue):\n",
    "    observer_processes = []\n",
    "    for i in range(n_workers):\n",
    "        worker_proc = Process(target=observer_proc, args=(points_queue, obseverations_queue))\n",
    "        worker_proc.daemon = True\n",
    "        worker_proc.start()\n",
    "\n",
    "        observer_processes.append(worker_proc)\n",
    "\n",
    "    return observer_processes\n",
    "\n",
    "def terminate_processes(processes):\n",
    "    for prc in processes:\n",
    "        prc.terminate()\n",
    "        prc.join()\n",
    "        prc.close()"
   ]
  },
  {
   "cell_type": "markdown",
   "id": "77d931e0",
   "metadata": {
    "lines_to_next_cell": 0
   },
   "source": [
    "Finally we set some common parameters. See comments below for explanation of what each one means."
   ]
  },
  {
   "cell_type": "code",
   "execution_count": 7,
   "id": "8e5009a1",
   "metadata": {
    "execution": {
     "iopub.execute_input": "2021-11-23T14:54:42.297726Z",
     "iopub.status.busy": "2021-11-23T14:54:42.296975Z",
     "iopub.status.idle": "2021-11-23T14:54:42.301361Z",
     "shell.execute_reply": "2021-11-23T14:54:42.300840Z"
    }
   },
   "outputs": [],
   "source": [
    "# Number of worker processes to run simultaneously\n",
    "# Setting this to 1 will turn both setups into non-batch sequential optimization\n",
    "num_workers = 3\n",
    "# Number of iterations to run the sycnhronous scenario for\n",
    "num_iterations = 10\n",
    "# Number of observations to collect in the asynchronous scenario\n",
    "num_observations = num_workers * num_iterations\n",
    "# Set this flag to False to disable sleep delays in case you want the notebook to execute quickly\n",
    "enable_sleep_delays = True"
   ]
  },
  {
   "cell_type": "markdown",
   "id": "e90fd151",
   "metadata": {},
   "source": [
    "## Asynchronous optimization\n",
    "This section runs the asynchronous optimization routine. We first setup the [ask/tell optimizer](ask_tell_optimization.ipynb) as we cannot hand over the evaluation of the objective to Trieste. Next we create thread-safe queues for points and observations, and run the optimization loop.\n",
    "\n",
    "Crucially, even though we are using batch acquisition function Local Penalization, we specify batch size of 1. This is because we don't really want a batch. Since the amount of workers we have is fixed, whenever we see a new observation we only need one point back. However this process can only be done with acquisition functions that implement greedy batch collection strategies, because they are able to take into account points that are currently being observed (in Trieste we call them \"pending\"). Trieste currently provides two such functions: Local Penalization and GIBBON. Notice that we use **AsynchronousGreedy** rule specifically designed for using greedy batch acquisition functions in asynchronous scenarios."
   ]
  },
  {
   "cell_type": "code",
   "execution_count": 8,
   "id": "a3b59b83",
   "metadata": {
    "execution": {
     "iopub.execute_input": "2021-11-23T14:54:42.312912Z",
     "iopub.status.busy": "2021-11-23T14:54:42.312246Z",
     "iopub.status.idle": "2021-11-23T14:55:32.327941Z",
     "shell.execute_reply": "2021-11-23T14:55:32.328476Z"
    }
   },
   "outputs": [
    {
     "name": "stdout",
     "output_type": "stream",
     "text": [
      "Process 2738: Observer : observing data at point [[0.32304273 0.32086401]]"
     ]
    },
    {
     "name": "stdout",
     "output_type": "stream",
     "text": [
      "\n"
     ]
    },
    {
     "name": "stdout",
     "output_type": "stream",
     "text": [
      "Process 2738: Objective: pretends like it's doing something for 1.9s"
     ]
    },
    {
     "name": "stdout",
     "output_type": "stream",
     "text": [
      "\n"
     ]
    },
    {
     "name": "stdout",
     "output_type": "stream",
     "text": [
      "Process 2741: Observer : observing data at point [[0.         0.72693867]]"
     ]
    },
    {
     "name": "stdout",
     "output_type": "stream",
     "text": [
      "\n"
     ]
    },
    {
     "name": "stdout",
     "output_type": "stream",
     "text": [
      "Process 2741: Objective: pretends like it's doing something for 2.2s"
     ]
    },
    {
     "name": "stdout",
     "output_type": "stream",
     "text": [
      "\n"
     ]
    },
    {
     "name": "stdout",
     "output_type": "stream",
     "text": [
      "Process 2738: Observer : observed data (array([[0.32304273, 0.32086401]]), array([[-0.64024191]]))"
     ]
    },
    {
     "name": "stdout",
     "output_type": "stream",
     "text": [
      "\n"
     ]
    },
    {
     "name": "stdout",
     "output_type": "stream",
     "text": [
      "Process 2698: Main     : received data (array([[0.32304273, 0.32086401]]), array([[-0.64024191]]))\n"
     ]
    },
    {
     "name": "stdout",
     "output_type": "stream",
     "text": [
      "Process 2746: Observer : observing data at point [[0.         0.20725876]]"
     ]
    },
    {
     "name": "stdout",
     "output_type": "stream",
     "text": [
      "\n"
     ]
    },
    {
     "name": "stdout",
     "output_type": "stream",
     "text": [
      "Process 2746: Objective: pretends like it's doing something for 0.62s"
     ]
    },
    {
     "name": "stdout",
     "output_type": "stream",
     "text": [
      "\n"
     ]
    },
    {
     "name": "stdout",
     "output_type": "stream",
     "text": [
      "Process 2746: Observer : observed data (array([[0.        , 0.20725876]]), array([[3.00514558]]))"
     ]
    },
    {
     "name": "stdout",
     "output_type": "stream",
     "text": [
      "\n"
     ]
    },
    {
     "name": "stdout",
     "output_type": "stream",
     "text": [
      "Process 2741: Observer : observed data (array([[0.        , 0.72693867]]), array([[-0.0501759]]))"
     ]
    },
    {
     "name": "stdout",
     "output_type": "stream",
     "text": [
      "\n"
     ]
    },
    {
     "name": "stdout",
     "output_type": "stream",
     "text": [
      "Process 2698: Main     : acquired point [[0.76240729 0.07845273]]\n"
     ]
    },
    {
     "name": "stdout",
     "output_type": "stream",
     "text": [
      "Process 2698: Main     : received data (array([[0.        , 0.20725876]]), array([[3.00514558]]))\n"
     ]
    },
    {
     "name": "stdout",
     "output_type": "stream",
     "text": [
      "Process 2738: Observer : observing data at point [[0.76240729 0.07845273]]"
     ]
    },
    {
     "name": "stdout",
     "output_type": "stream",
     "text": [
      "\n"
     ]
    },
    {
     "name": "stdout",
     "output_type": "stream",
     "text": [
      "Process 2738: Objective: pretends like it's doing something for 2.5s"
     ]
    },
    {
     "name": "stdout",
     "output_type": "stream",
     "text": [
      "\n"
     ]
    },
    {
     "name": "stdout",
     "output_type": "stream",
     "text": [
      "Process 2698: Main     : acquired point [[0.36338558 0.38513438]]\n"
     ]
    },
    {
     "name": "stdout",
     "output_type": "stream",
     "text": [
      "Process 2746: Observer : observing data at point [[0.36338558 0.38513438]]"
     ]
    },
    {
     "name": "stdout",
     "output_type": "stream",
     "text": [
      "Process 2698: Main     : received data (array([[0.        , 0.72693867]]), array([[-0.0501759]]))\n"
     ]
    },
    {
     "name": "stdout",
     "output_type": "stream",
     "text": [
      "\n"
     ]
    },
    {
     "name": "stdout",
     "output_type": "stream",
     "text": [
      "Process 2746: Objective: pretends like it's doing something for 2.2s"
     ]
    },
    {
     "name": "stdout",
     "output_type": "stream",
     "text": [
      "\n"
     ]
    },
    {
     "name": "stdout",
     "output_type": "stream",
     "text": [
      "Process 2738: Observer : observed data (array([[0.76240729, 0.07845273]]), array([[-0.67979206]]))"
     ]
    },
    {
     "name": "stdout",
     "output_type": "stream",
     "text": [
      "\n"
     ]
    },
    {
     "name": "stdout",
     "output_type": "stream",
     "text": [
      "Process 2698: Main     : acquired point [[0.28419066 0.2584528 ]]\n"
     ]
    },
    {
     "name": "stdout",
     "output_type": "stream",
     "text": [
      "Process 2698: Main     : received data (array([[0.76240729, 0.07845273]]), array([[-0.67979206]]))\n"
     ]
    },
    {
     "name": "stdout",
     "output_type": "stream",
     "text": [
      "Process 2741: Observer : observing data at point [[0.28419066 0.2584528 ]]"
     ]
    },
    {
     "name": "stdout",
     "output_type": "stream",
     "text": [
      "\n"
     ]
    },
    {
     "name": "stdout",
     "output_type": "stream",
     "text": [
      "Process 2741: Objective: pretends like it's doing something for 1.6s"
     ]
    },
    {
     "name": "stdout",
     "output_type": "stream",
     "text": [
      "\n"
     ]
    },
    {
     "name": "stdout",
     "output_type": "stream",
     "text": [
      "Process 2698: Main     : acquired point [[0.83026194 0.06224042]]\n"
     ]
    },
    {
     "name": "stdout",
     "output_type": "stream",
     "text": [
      "Process 2738: Observer : observing data at point [[0.83026194 0.06224042]]"
     ]
    },
    {
     "name": "stdout",
     "output_type": "stream",
     "text": [
      "\n"
     ]
    },
    {
     "name": "stdout",
     "output_type": "stream",
     "text": [
      "Process 2738: Objective: pretends like it's doing something for 2.7s"
     ]
    },
    {
     "name": "stdout",
     "output_type": "stream",
     "text": [
      "\n"
     ]
    },
    {
     "name": "stdout",
     "output_type": "stream",
     "text": [
      "Process 2746: Observer : observed data (array([[0.36338558, 0.38513438]]), array([[-0.69197039]]))"
     ]
    },
    {
     "name": "stdout",
     "output_type": "stream",
     "text": [
      "\n"
     ]
    },
    {
     "name": "stdout",
     "output_type": "stream",
     "text": [
      "Process 2698: Main     : received data (array([[0.36338558, 0.38513438]]), array([[-0.69197039]]))\n"
     ]
    },
    {
     "name": "stdout",
     "output_type": "stream",
     "text": [
      "Process 2741: Observer : observed data (array([[0.28419066, 0.2584528 ]]), array([[-0.50753932]]))"
     ]
    },
    {
     "name": "stdout",
     "output_type": "stream",
     "text": [
      "\n"
     ]
    },
    {
     "name": "stdout",
     "output_type": "stream",
     "text": [
      "Process 2698: Main     : acquired point [[0.52838661 0.17984029]]\n"
     ]
    },
    {
     "name": "stdout",
     "output_type": "stream",
     "text": [
      "Process 2746: Observer : observing data at point [[0.52838661 0.17984029]]"
     ]
    },
    {
     "name": "stdout",
     "output_type": "stream",
     "text": [
      "Process 2698: Main     : received data (array([[0.28419066, 0.2584528 ]]), array([[-0.50753932]]))\n"
     ]
    },
    {
     "name": "stdout",
     "output_type": "stream",
     "text": [
      "\n"
     ]
    },
    {
     "name": "stdout",
     "output_type": "stream",
     "text": [
      "Process 2746: Objective: pretends like it's doing something for 2.1s"
     ]
    },
    {
     "name": "stdout",
     "output_type": "stream",
     "text": [
      "\n"
     ]
    },
    {
     "name": "stdout",
     "output_type": "stream",
     "text": [
      "Process 2698: Main     : acquired point [[0.41623664 0.05476374]]\n"
     ]
    },
    {
     "name": "stdout",
     "output_type": "stream",
     "text": [
      "Process 2741: Observer : observing data at point [[0.41623664 0.05476374]]"
     ]
    },
    {
     "name": "stdout",
     "output_type": "stream",
     "text": [
      "\n"
     ]
    },
    {
     "name": "stdout",
     "output_type": "stream",
     "text": [
      "Process 2741: Objective: pretends like it's doing something for 1.4s"
     ]
    },
    {
     "name": "stdout",
     "output_type": "stream",
     "text": [
      "\n"
     ]
    },
    {
     "name": "stdout",
     "output_type": "stream",
     "text": [
      "Process 2738: Observer : observed data (array([[0.83026194, 0.06224042]]), array([[-0.78778335]]))"
     ]
    },
    {
     "name": "stdout",
     "output_type": "stream",
     "text": [
      "\n"
     ]
    },
    {
     "name": "stdout",
     "output_type": "stream",
     "text": [
      "Process 2698: Main     : received data (array([[0.83026194, 0.06224042]]), array([[-0.78778335]]))\n"
     ]
    },
    {
     "name": "stdout",
     "output_type": "stream",
     "text": [
      "Process 2746: Observer : observed data (array([[0.52838661, 0.17984029]]), array([[-1.04192023]]))"
     ]
    },
    {
     "name": "stdout",
     "output_type": "stream",
     "text": [
      "\n"
     ]
    },
    {
     "name": "stdout",
     "output_type": "stream",
     "text": [
      "Process 2698: Main     : acquired point [[0.25630396 0.59557988]]\n"
     ]
    },
    {
     "name": "stdout",
     "output_type": "stream",
     "text": [
      "Process 2698: Main     : received data (array([[0.52838661, 0.17984029]]), array([[-1.04192023]]))\n"
     ]
    },
    {
     "name": "stdout",
     "output_type": "stream",
     "text": [
      "Process 2738: Observer : observing data at point [[0.25630396 0.59557988]]"
     ]
    },
    {
     "name": "stdout",
     "output_type": "stream",
     "text": [
      "\n"
     ]
    },
    {
     "name": "stdout",
     "output_type": "stream",
     "text": [
      "Process 2738: Objective: pretends like it's doing something for 2.6s"
     ]
    },
    {
     "name": "stdout",
     "output_type": "stream",
     "text": [
      "\n"
     ]
    },
    {
     "name": "stdout",
     "output_type": "stream",
     "text": [
      "Process 2741: Observer : observed data (array([[0.41623664, 0.05476374]]), array([[-0.58073784]]))"
     ]
    },
    {
     "name": "stdout",
     "output_type": "stream",
     "text": [
      "\n"
     ]
    },
    {
     "name": "stdout",
     "output_type": "stream",
     "text": [
      "Process 2698: Main     : acquired point [[0.3741217 0.       ]]\n"
     ]
    },
    {
     "name": "stdout",
     "output_type": "stream",
     "text": [
      "Process 2746: Observer : observing data at point [[0.3741217 0.       ]]"
     ]
    },
    {
     "name": "stdout",
     "output_type": "stream",
     "text": [
      "\n"
     ]
    },
    {
     "name": "stdout",
     "output_type": "stream",
     "text": [
      "Process 2698: Main     : received data (array([[0.41623664, 0.05476374]]), array([[-0.58073784]]))\n"
     ]
    },
    {
     "name": "stdout",
     "output_type": "stream",
     "text": [
      "Process 2746: Objective: pretends like it's doing something for 1.1s"
     ]
    },
    {
     "name": "stdout",
     "output_type": "stream",
     "text": [
      "\n"
     ]
    },
    {
     "name": "stdout",
     "output_type": "stream",
     "text": [
      "Process 2698: Main     : acquired point [[1.         0.22242861]]\n"
     ]
    },
    {
     "name": "stdout",
     "output_type": "stream",
     "text": [
      "Process 2741: Observer : observing data at point [[1.         0.22242861]]"
     ]
    },
    {
     "name": "stdout",
     "output_type": "stream",
     "text": [
      "\n"
     ]
    },
    {
     "name": "stdout",
     "output_type": "stream",
     "text": [
      "Process 2741: Objective: pretends like it's doing something for 3.7s"
     ]
    },
    {
     "name": "stdout",
     "output_type": "stream",
     "text": [
      "\n"
     ]
    },
    {
     "name": "stdout",
     "output_type": "stream",
     "text": [
      "Process 2746: Observer : observed data (array([[0.3741217, 0.       ]]), array([[-0.21555466]]))"
     ]
    },
    {
     "name": "stdout",
     "output_type": "stream",
     "text": [
      "\n"
     ]
    },
    {
     "name": "stdout",
     "output_type": "stream",
     "text": [
      "Process 2698: Main     : received data (array([[0.3741217, 0.       ]]), array([[-0.21555466]]))\n"
     ]
    },
    {
     "name": "stdout",
     "output_type": "stream",
     "text": [
      "Process 2738: Observer : observed data (array([[0.25630396, 0.59557988]]), array([[-0.77160308]]))"
     ]
    },
    {
     "name": "stdout",
     "output_type": "stream",
     "text": [
      "\n"
     ]
    },
    {
     "name": "stdout",
     "output_type": "stream",
     "text": [
      "Process 2698: Main     : acquired point [[0.26815944 0.68743756]]\n"
     ]
    },
    {
     "name": "stdout",
     "output_type": "stream",
     "text": [
      "Process 2746: Observer : observing data at point [[0.26815944 0.68743756]]"
     ]
    },
    {
     "name": "stdout",
     "output_type": "stream",
     "text": [
      "Process 2698: Main     : received data (array([[0.25630396, 0.59557988]]), array([[-0.77160308]]))\n"
     ]
    },
    {
     "name": "stdout",
     "output_type": "stream",
     "text": [
      "\n"
     ]
    },
    {
     "name": "stdout",
     "output_type": "stream",
     "text": [
      "Process 2746: Objective: pretends like it's doing something for 2.9s"
     ]
    },
    {
     "name": "stdout",
     "output_type": "stream",
     "text": [
      "\n"
     ]
    },
    {
     "name": "stdout",
     "output_type": "stream",
     "text": [
      "Process 2698: Main     : acquired point [[0.87680415 0.25813508]]\n"
     ]
    },
    {
     "name": "stdout",
     "output_type": "stream",
     "text": [
      "Process 2738: Observer : observing data at point [[0.87680415 0.25813508]]"
     ]
    },
    {
     "name": "stdout",
     "output_type": "stream",
     "text": [
      "\n"
     ]
    },
    {
     "name": "stdout",
     "output_type": "stream",
     "text": [
      "Process 2738: Objective: pretends like it's doing something for 3.4s"
     ]
    },
    {
     "name": "stdout",
     "output_type": "stream",
     "text": [
      "\n"
     ]
    },
    {
     "name": "stdout",
     "output_type": "stream",
     "text": [
      "Process 2741: Observer : observed data (array([[1.        , 0.22242861]]), array([[-1.01550828]]))"
     ]
    },
    {
     "name": "stdout",
     "output_type": "stream",
     "text": [
      "\n"
     ]
    },
    {
     "name": "stdout",
     "output_type": "stream",
     "text": [
      "Process 2698: Main     : received data (array([[1.        , 0.22242861]]), array([[-1.01550828]]))\n"
     ]
    },
    {
     "name": "stdout",
     "output_type": "stream",
     "text": [
      "Process 2746: Observer : observed data (array([[0.26815944, 0.68743756]]), array([[-0.6258699]]))"
     ]
    },
    {
     "name": "stdout",
     "output_type": "stream",
     "text": [
      "\n"
     ]
    },
    {
     "name": "stdout",
     "output_type": "stream",
     "text": [
      "Process 2698: Main     : acquired point [[1.         0.05211946]]\n"
     ]
    },
    {
     "name": "stdout",
     "output_type": "stream",
     "text": [
      "Process 2698: Main     : received data (array([[0.26815944, 0.68743756]]), array([[-0.6258699]]))\n"
     ]
    },
    {
     "name": "stdout",
     "output_type": "stream",
     "text": [
      "Process 2741: Observer : observing data at point [[1.         0.05211946]]"
     ]
    },
    {
     "name": "stdout",
     "output_type": "stream",
     "text": [
      "Process 2741: Objective: pretends like it's doing something for 3.2s"
     ]
    },
    {
     "name": "stdout",
     "output_type": "stream",
     "text": [
      "\n"
     ]
    },
    {
     "name": "stdout",
     "output_type": "stream",
     "text": [
      "\n"
     ]
    },
    {
     "name": "stdout",
     "output_type": "stream",
     "text": [
      "Process 2738: Observer : observed data (array([[0.87680415, 0.25813508]]), array([[-0.81840942]]))"
     ]
    },
    {
     "name": "stdout",
     "output_type": "stream",
     "text": [
      "\n"
     ]
    },
    {
     "name": "stdout",
     "output_type": "stream",
     "text": [
      "Process 2698: Main     : acquired point [[1. 0.]]\n"
     ]
    },
    {
     "name": "stdout",
     "output_type": "stream",
     "text": [
      "Process 2698: Main     : received data (array([[0.87680415, 0.25813508]]), array([[-0.81840942]]))\n"
     ]
    },
    {
     "name": "stdout",
     "output_type": "stream",
     "text": [
      "Process 2746: Observer : observing data at point [[1. 0.]]"
     ]
    },
    {
     "name": "stdout",
     "output_type": "stream",
     "text": [
      "\n"
     ]
    },
    {
     "name": "stdout",
     "output_type": "stream",
     "text": [
      "\n"
     ]
    },
    {
     "name": "stdout",
     "output_type": "stream",
     "text": [
      "Process 2746: Objective: pretends like it's doing something for 3.0s"
     ]
    },
    {
     "name": "stdout",
     "output_type": "stream",
     "text": [
      "Process 2698: Main     : acquired point [[0.99101738 0.1166901 ]]\n"
     ]
    },
    {
     "name": "stdout",
     "output_type": "stream",
     "text": [
      "Process 2738: Observer : observing data at point [[0.99101738 0.1166901 ]]"
     ]
    },
    {
     "name": "stdout",
     "output_type": "stream",
     "text": [
      "\n"
     ]
    },
    {
     "name": "stdout",
     "output_type": "stream",
     "text": [
      "Process 2738: Objective: pretends like it's doing something for 3.3s"
     ]
    },
    {
     "name": "stdout",
     "output_type": "stream",
     "text": [
      "\n"
     ]
    },
    {
     "name": "stdout",
     "output_type": "stream",
     "text": [
      "Process 2741: Observer : observed data (array([[1.        , 0.05211946]]), array([[-0.92268116]]))"
     ]
    },
    {
     "name": "stdout",
     "output_type": "stream",
     "text": [
      "\n"
     ]
    },
    {
     "name": "stdout",
     "output_type": "stream",
     "text": [
      "Process 2698: Main     : received data (array([[1.        , 0.05211946]]), array([[-0.92268116]]))\n"
     ]
    },
    {
     "name": "stdout",
     "output_type": "stream",
     "text": [
      "Process 2746: Observer : observed data (array([[1., 0.]]), array([[-0.84406373]]))"
     ]
    },
    {
     "name": "stdout",
     "output_type": "stream",
     "text": [
      "\n"
     ]
    },
    {
     "name": "stdout",
     "output_type": "stream",
     "text": [
      "Process 2698: Main     : acquired point [[0.49360897 0.24313414]]\n"
     ]
    },
    {
     "name": "stdout",
     "output_type": "stream",
     "text": [
      "Process 2698: Main     : received data (array([[1., 0.]]), array([[-0.84406373]]))\n"
     ]
    },
    {
     "name": "stdout",
     "output_type": "stream",
     "text": [
      "Process 2741: Observer : observing data at point [[0.49360897 0.24313414]]"
     ]
    },
    {
     "name": "stdout",
     "output_type": "stream",
     "text": [
      "\n"
     ]
    },
    {
     "name": "stdout",
     "output_type": "stream",
     "text": [
      "Process 2741: Objective: pretends like it's doing something for 2.2s"
     ]
    },
    {
     "name": "stdout",
     "output_type": "stream",
     "text": [
      "\n"
     ]
    },
    {
     "name": "stdout",
     "output_type": "stream",
     "text": [
      "Process 2698: Main     : acquired point [[0.50654977 0.25100579]]\n"
     ]
    },
    {
     "name": "stdout",
     "output_type": "stream",
     "text": [
      "Process 2746: Observer : observing data at point [[0.50654977 0.25100579]]"
     ]
    },
    {
     "name": "stdout",
     "output_type": "stream",
     "text": [
      "\n"
     ]
    },
    {
     "name": "stdout",
     "output_type": "stream",
     "text": [
      "Process 2746: Objective: pretends like it's doing something for 2.3s"
     ]
    },
    {
     "name": "stdout",
     "output_type": "stream",
     "text": [
      "\n"
     ]
    },
    {
     "name": "stdout",
     "output_type": "stream",
     "text": [
      "Process 2738: Observer : observed data (array([[0.99101738, 0.1166901 ]]), array([[-1.00554967]]))"
     ]
    },
    {
     "name": "stdout",
     "output_type": "stream",
     "text": [
      "\n"
     ]
    },
    {
     "name": "stdout",
     "output_type": "stream",
     "text": [
      "Process 2698: Main     : received data (array([[0.99101738, 0.1166901 ]]), array([[-1.00554967]]))\n"
     ]
    },
    {
     "name": "stdout",
     "output_type": "stream",
     "text": [
      "Process 2741: Observer : observed data (array([[0.49360897, 0.24313414]]), array([[-0.98920662]]))"
     ]
    },
    {
     "name": "stdout",
     "output_type": "stream",
     "text": [
      "\n"
     ]
    },
    {
     "name": "stdout",
     "output_type": "stream",
     "text": [
      "Process 2698: Main     : acquired point [[0.48900431 0.23215966]]\n"
     ]
    },
    {
     "name": "stdout",
     "output_type": "stream",
     "text": [
      "Process 2698: Main     : received data (array([[0.49360897, 0.24313414]]), array([[-0.98920662]]))\n"
     ]
    },
    {
     "name": "stdout",
     "output_type": "stream",
     "text": [
      "Process 2738: Observer : observing data at point [[0.48900431 0.23215966]]"
     ]
    },
    {
     "name": "stdout",
     "output_type": "stream",
     "text": [
      "\n"
     ]
    },
    {
     "name": "stdout",
     "output_type": "stream",
     "text": [
      "Process 2738: Objective: pretends like it's doing something for 2.2s"
     ]
    },
    {
     "name": "stdout",
     "output_type": "stream",
     "text": [
      "\n"
     ]
    },
    {
     "name": "stdout",
     "output_type": "stream",
     "text": [
      "Process 2746: Observer : observed data (array([[0.50654977, 0.25100579]]), array([[-1.00042396]]))"
     ]
    },
    {
     "name": "stdout",
     "output_type": "stream",
     "text": [
      "\n"
     ]
    },
    {
     "name": "stdout",
     "output_type": "stream",
     "text": [
      "Process 2698: Main     : acquired point [[0.19498918 1.        ]]\n"
     ]
    },
    {
     "name": "stdout",
     "output_type": "stream",
     "text": [
      "Process 2741: Observer : observing data at point [[0.19498918 1.        ]]"
     ]
    },
    {
     "name": "stdout",
     "output_type": "stream",
     "text": [
      "\n"
     ]
    },
    {
     "name": "stdout",
     "output_type": "stream",
     "text": [
      "Process 2741: Objective: pretends like it's doing something for 3.6s"
     ]
    },
    {
     "name": "stdout",
     "output_type": "stream",
     "text": [
      "\n"
     ]
    },
    {
     "name": "stdout",
     "output_type": "stream",
     "text": [
      "Process 2698: Main     : received data (array([[0.50654977, 0.25100579]]), array([[-1.00042396]]))\n"
     ]
    },
    {
     "name": "stdout",
     "output_type": "stream",
     "text": [
      "Process 2698: Main     : acquired point [[0.0543124 1.       ]]\n"
     ]
    },
    {
     "name": "stdout",
     "output_type": "stream",
     "text": [
      "Process 2746: Observer : observing data at point [[0.0543124 1.       ]]"
     ]
    },
    {
     "name": "stdout",
     "output_type": "stream",
     "text": [
      "\n"
     ]
    },
    {
     "name": "stdout",
     "output_type": "stream",
     "text": [
      "Process 2746: Objective: pretends like it's doing something for 3.2s"
     ]
    },
    {
     "name": "stdout",
     "output_type": "stream",
     "text": [
      "\n"
     ]
    },
    {
     "name": "stdout",
     "output_type": "stream",
     "text": [
      "Process 2738: Observer : observed data (array([[0.48900431, 0.23215966]]), array([[-0.98576194]]))"
     ]
    },
    {
     "name": "stdout",
     "output_type": "stream",
     "text": [
      "\n"
     ]
    },
    {
     "name": "stdout",
     "output_type": "stream",
     "text": [
      "Process 2698: Main     : received data (array([[0.48900431, 0.23215966]]), array([[-0.98576194]]))\n"
     ]
    },
    {
     "name": "stdout",
     "output_type": "stream",
     "text": [
      "Process 2698: Main     : acquired point [[0.31214435 1.        ]]\n"
     ]
    },
    {
     "name": "stdout",
     "output_type": "stream",
     "text": [
      "Process 2738: Observer : observing data at point [[0.31214435 1.        ]]"
     ]
    },
    {
     "name": "stdout",
     "output_type": "stream",
     "text": [
      "\n"
     ]
    },
    {
     "name": "stdout",
     "output_type": "stream",
     "text": [
      "Process 2738: Objective: pretends like it's doing something for 3.9s"
     ]
    },
    {
     "name": "stdout",
     "output_type": "stream",
     "text": [
      "\n"
     ]
    },
    {
     "name": "stdout",
     "output_type": "stream",
     "text": [
      "Process 2741: Observer : observed data (array([[0.19498918, 1.        ]]), array([[-0.44313142]]))"
     ]
    },
    {
     "name": "stdout",
     "output_type": "stream",
     "text": [
      "\n"
     ]
    },
    {
     "name": "stdout",
     "output_type": "stream",
     "text": [
      "Process 2698: Main     : received data (array([[0.19498918, 1.        ]]), array([[-0.44313142]]))\n"
     ]
    },
    {
     "name": "stdout",
     "output_type": "stream",
     "text": [
      "Process 2746: Observer : observed data (array([[0.0543124, 1.       ]]), array([[-0.95542184]]))"
     ]
    },
    {
     "name": "stdout",
     "output_type": "stream",
     "text": [
      "\n"
     ]
    },
    {
     "name": "stdout",
     "output_type": "stream",
     "text": [
      "Process 2698: Main     : acquired point [[1.         0.54306717]]\n"
     ]
    },
    {
     "name": "stdout",
     "output_type": "stream",
     "text": [
      "Process 2698: Main     : received data (array([[0.0543124, 1.       ]]), array([[-0.95542184]]))\n"
     ]
    },
    {
     "name": "stdout",
     "output_type": "stream",
     "text": [
      "Process 2741: Observer : observing data at point [[1.         0.54306717]]"
     ]
    },
    {
     "name": "stdout",
     "output_type": "stream",
     "text": [
      "\n"
     ]
    },
    {
     "name": "stdout",
     "output_type": "stream",
     "text": [
      "Process 2741: Objective: pretends like it's doing something for 4.6s"
     ]
    },
    {
     "name": "stdout",
     "output_type": "stream",
     "text": [
      "\n"
     ]
    },
    {
     "name": "stdout",
     "output_type": "stream",
     "text": [
      "Process 2698: Main     : acquired point [[0. 1.]]\n"
     ]
    },
    {
     "name": "stdout",
     "output_type": "stream",
     "text": [
      "Process 2746: Observer : observing data at point [[0. 1.]]"
     ]
    },
    {
     "name": "stdout",
     "output_type": "stream",
     "text": [
      "\n"
     ]
    },
    {
     "name": "stdout",
     "output_type": "stream",
     "text": [
      "Process 2746: Objective: pretends like it's doing something for 3.0s"
     ]
    },
    {
     "name": "stdout",
     "output_type": "stream",
     "text": [
      "\n"
     ]
    },
    {
     "name": "stdout",
     "output_type": "stream",
     "text": [
      "Process 2738: Observer : observed data (array([[0.31214435, 1.        ]]), array([[0.69759858]]))"
     ]
    },
    {
     "name": "stdout",
     "output_type": "stream",
     "text": [
      "\n"
     ]
    },
    {
     "name": "stdout",
     "output_type": "stream",
     "text": [
      "Process 2698: Main     : received data (array([[0.31214435, 1.        ]]), array([[0.69759858]]))\n"
     ]
    },
    {
     "name": "stdout",
     "output_type": "stream",
     "text": [
      "Process 2698: Main     : acquired point [[1.         0.67958562]]\n"
     ]
    },
    {
     "name": "stdout",
     "output_type": "stream",
     "text": [
      "Process 2738: Observer : observing data at point [[1.         0.67958562]]"
     ]
    },
    {
     "name": "stdout",
     "output_type": "stream",
     "text": [
      "\n"
     ]
    },
    {
     "name": "stdout",
     "output_type": "stream",
     "text": [
      "Process 2738: Objective: pretends like it's doing something for 5.0s"
     ]
    },
    {
     "name": "stdout",
     "output_type": "stream",
     "text": [
      "\n"
     ]
    },
    {
     "name": "stdout",
     "output_type": "stream",
     "text": [
      "Process 2746: Observer : observed data (array([[0., 1.]]), array([[-0.71803081]]))"
     ]
    },
    {
     "name": "stdout",
     "output_type": "stream",
     "text": [
      "\n"
     ]
    },
    {
     "name": "stdout",
     "output_type": "stream",
     "text": [
      "Process 2698: Main     : received data (array([[0., 1.]]), array([[-0.71803081]]))\n"
     ]
    },
    {
     "name": "stdout",
     "output_type": "stream",
     "text": [
      "Process 2741: Observer : observed data (array([[1.        , 0.54306717]]), array([[-0.50848673]]))"
     ]
    },
    {
     "name": "stdout",
     "output_type": "stream",
     "text": [
      "\n"
     ]
    },
    {
     "name": "stdout",
     "output_type": "stream",
     "text": [
      "Process 2698: Main     : acquired point [[0.10513714 0.90143914]]\n"
     ]
    },
    {
     "name": "stdout",
     "output_type": "stream",
     "text": [
      "Process 2698: Main     : received data (array([[1.        , 0.54306717]]), array([[-0.50848673]]))\n"
     ]
    },
    {
     "name": "stdout",
     "output_type": "stream",
     "text": [
      "Process 2746: Observer : observing data at point [[0.10513714 0.90143914]]"
     ]
    },
    {
     "name": "stdout",
     "output_type": "stream",
     "text": [
      "\n"
     ]
    },
    {
     "name": "stdout",
     "output_type": "stream",
     "text": [
      "Process 2746: Objective: pretends like it's doing something for 3.0s"
     ]
    },
    {
     "name": "stdout",
     "output_type": "stream",
     "text": [
      "\n"
     ]
    },
    {
     "name": "stdout",
     "output_type": "stream",
     "text": [
      "Process 2698: Main     : acquired point [[0.57932109 0.22169374]]\n"
     ]
    },
    {
     "name": "stdout",
     "output_type": "stream",
     "text": [
      "Process 2741: Observer : observing data at point [[0.57932109 0.22169374]]"
     ]
    },
    {
     "name": "stdout",
     "output_type": "stream",
     "text": [
      "\n"
     ]
    },
    {
     "name": "stdout",
     "output_type": "stream",
     "text": [
      "Process 2741: Objective: pretends like it's doing something for 2.4s"
     ]
    },
    {
     "name": "stdout",
     "output_type": "stream",
     "text": [
      "\n"
     ]
    },
    {
     "name": "stdout",
     "output_type": "stream",
     "text": [
      "Process 2738: Observer : observed data (array([[1.        , 0.67958562]]), array([[-0.02230715]]))"
     ]
    },
    {
     "name": "stdout",
     "output_type": "stream",
     "text": [
      "\n"
     ]
    },
    {
     "name": "stdout",
     "output_type": "stream",
     "text": [
      "Process 2698: Main     : received data (array([[1.        , 0.67958562]]), array([[-0.02230715]]))\n"
     ]
    },
    {
     "name": "stdout",
     "output_type": "stream",
     "text": [
      "Process 2746: Observer : observed data (array([[0.10513714, 0.90143914]]), array([[-1.03408541]]))"
     ]
    },
    {
     "name": "stdout",
     "output_type": "stream",
     "text": [
      "\n"
     ]
    },
    {
     "name": "stdout",
     "output_type": "stream",
     "text": [
      "Process 2698: Main     : acquired point [[0.58561512 0.22495047]]\n"
     ]
    },
    {
     "name": "stdout",
     "output_type": "stream",
     "text": [
      "Process 2698: Main     : received data (array([[0.10513714, 0.90143914]]), array([[-1.03408541]]))\n"
     ]
    },
    {
     "name": "stdout",
     "output_type": "stream",
     "text": [
      "Process 2738: Observer : observing data at point [[0.58561512 0.22495047]]"
     ]
    },
    {
     "name": "stdout",
     "output_type": "stream",
     "text": [
      "\n"
     ]
    },
    {
     "name": "stdout",
     "output_type": "stream",
     "text": [
      "Process 2738: Objective: pretends like it's doing something for 2.4s"
     ]
    },
    {
     "name": "stdout",
     "output_type": "stream",
     "text": [
      "\n"
     ]
    },
    {
     "name": "stdout",
     "output_type": "stream",
     "text": [
      "Process 2741: Observer : observed data (array([[0.57932109, 0.22169374]]), array([[-0.98044044]]))"
     ]
    },
    {
     "name": "stdout",
     "output_type": "stream",
     "text": [
      "\n"
     ]
    },
    {
     "name": "stdout",
     "output_type": "stream",
     "text": [
      "Process 2698: Main     : acquired point [[0.57271123 0.21927824]]\n"
     ]
    },
    {
     "name": "stdout",
     "output_type": "stream",
     "text": [
      "Process 2746: Observer : observing data at point [[0.57271123 0.21927824]]"
     ]
    },
    {
     "name": "stdout",
     "output_type": "stream",
     "text": [
      "\n"
     ]
    },
    {
     "name": "stdout",
     "output_type": "stream",
     "text": [
      "Process 2698: Main     : received data (array([[0.57932109, 0.22169374]]), array([[-0.98044044]]))\n"
     ]
    },
    {
     "name": "stdout",
     "output_type": "stream",
     "text": [
      "Process 2746: Objective: pretends like it's doing something for 2.4s"
     ]
    },
    {
     "name": "stdout",
     "output_type": "stream",
     "text": [
      "\n"
     ]
    },
    {
     "name": "stdout",
     "output_type": "stream",
     "text": [
      "Process 2698: Main     : acquired point [[0.59053785 0.        ]]\n"
     ]
    },
    {
     "name": "stdout",
     "output_type": "stream",
     "text": [
      "Process 2741: Observer : observing data at point [[0.59053785 0.        ]]"
     ]
    },
    {
     "name": "stdout",
     "output_type": "stream",
     "text": [
      "\n"
     ]
    },
    {
     "name": "stdout",
     "output_type": "stream",
     "text": [
      "Process 2741: Objective: pretends like it's doing something for 1.8s"
     ]
    },
    {
     "name": "stdout",
     "output_type": "stream",
     "text": [
      "\n"
     ]
    },
    {
     "name": "stdout",
     "output_type": "stream",
     "text": [
      "Process 2738: Observer : observed data (array([[0.58561512, 0.22495047]]), array([[-0.96445148]]))"
     ]
    },
    {
     "name": "stdout",
     "output_type": "stream",
     "text": [
      "\n"
     ]
    },
    {
     "name": "stdout",
     "output_type": "stream",
     "text": [
      "Process 2698: Main     : received data (array([[0.58561512, 0.22495047]]), array([[-0.96445148]]))\n"
     ]
    },
    {
     "name": "stdout",
     "output_type": "stream",
     "text": [
      "Process 2746: Observer : observed data (array([[0.57271123, 0.21927824]]), array([[-0.99458912]]))"
     ]
    },
    {
     "name": "stdout",
     "output_type": "stream",
     "text": [
      "\n"
     ]
    },
    {
     "name": "stdout",
     "output_type": "stream",
     "text": [
      "Process 2698: Main     : acquired point [[0.62816228 0.        ]]\n"
     ]
    },
    {
     "name": "stdout",
     "output_type": "stream",
     "text": [
      "Process 2738: Observer : observing data at point [[0.62816228 0.        ]]"
     ]
    },
    {
     "name": "stdout",
     "output_type": "stream",
     "text": [
      "Process 2698: Main     : received data (array([[0.57271123, 0.21927824]]), array([[-0.99458912]]))\n"
     ]
    },
    {
     "name": "stdout",
     "output_type": "stream",
     "text": [
      "\n"
     ]
    },
    {
     "name": "stdout",
     "output_type": "stream",
     "text": [
      "Process 2738: Objective: pretends like it's doing something for 1.9s"
     ]
    },
    {
     "name": "stdout",
     "output_type": "stream",
     "text": [
      "\n"
     ]
    },
    {
     "name": "stdout",
     "output_type": "stream",
     "text": [
      "Process 2741: Observer : observed data (array([[0.59053785, 0.        ]]), array([[-0.94078261]]))"
     ]
    },
    {
     "name": "stdout",
     "output_type": "stream",
     "text": [
      "\n"
     ]
    },
    {
     "name": "stdout",
     "output_type": "stream",
     "text": [
      "Process 2698: Main     : acquired point [[0.55594874 0.        ]]\n"
     ]
    },
    {
     "name": "stdout",
     "output_type": "stream",
     "text": [
      "Process 2746: Observer : observing data at point [[0.55594874 0.        ]]"
     ]
    },
    {
     "name": "stdout",
     "output_type": "stream",
     "text": [
      "\n"
     ]
    },
    {
     "name": "stdout",
     "output_type": "stream",
     "text": [
      "Process 2746: Objective: pretends like it's doing something for 1.7s"
     ]
    },
    {
     "name": "stdout",
     "output_type": "stream",
     "text": [
      "Got 33 observations in 47.84s\n"
     ]
    }
   ],
   "source": [
    "\n",
    "# setup Ask Tell BO\n",
    "model = build_model(initial_data)\n",
    "\n",
    "local_penalization_acq = LocalPenalizationAcquisitionFunction(search_space, num_samples=2000)\n",
    "local_penalization_rule = AsynchronousGreedy(builder=local_penalization_acq)  # type: ignore\n",
    "\n",
    "async_bo = AskTellOptimizer(search_space, initial_data, model, local_penalization_rule)\n",
    "\n",
    "# retrieve process id for nice logging\n",
    "pid = os.getpid()\n",
    "# create point and observation queues\n",
    "m = Manager()\n",
    "pq = m.Queue()\n",
    "oq = m.Queue()\n",
    "# keep track of all workers we have launched\n",
    "observer_processes = []\n",
    "# counter to keep track of collected observations\n",
    "points_observed = 0\n",
    "\n",
    "start = timeit.default_timer()\n",
    "try:\n",
    "    observer_processes = create_worker_processes(num_workers, pq, oq)\n",
    "\n",
    "    # init the queue with first batch of points\n",
    "    for _ in range(num_workers):\n",
    "        point = async_bo.ask()\n",
    "        pq.put(np.atleast_2d(point.numpy()))\n",
    "\n",
    "    while points_observed < num_observations:\n",
    "        # keep asking queue for new observations until one arrives\n",
    "        try:\n",
    "            new_data = oq.get_nowait()\n",
    "            print(f\"Process {pid}: Main     : received data {new_data}\", flush=True)\n",
    "        except:\n",
    "            continue\n",
    "\n",
    "        # new_data is a tuple of (point, observation value)\n",
    "        # here we turn it into a Dataset and tell of it Trieste\n",
    "        points_observed += 1\n",
    "        new_data = Dataset(\n",
    "            query_points=tf.constant(new_data[0], dtype=tf.float64),\n",
    "            observations=tf.constant(new_data[1], dtype=tf.float64),\n",
    "        )\n",
    "        async_bo.tell(new_data)\n",
    "\n",
    "        # now we can ask Trieste for one more point\n",
    "        # and feed that back into the points queue\n",
    "        point = async_bo.ask()\n",
    "        print(f\"Process {pid}: Main     : acquired point {point}\", flush=True)\n",
    "        pq.put(np.atleast_2d(point))\n",
    "finally:\n",
    "    terminate_processes(observer_processes)\n",
    "stop = timeit.default_timer()\n",
    "\n",
    "# Collect the observations, compute the running time\n",
    "async_lp_observations = async_bo.to_result().try_get_final_dataset().observations - SCALED_BRANIN_MINIMUM\n",
    "async_lp_time = stop - start\n",
    "print(f\"Got {len(async_lp_observations)} observations in {async_lp_time:.2f}s\")"
   ]
  },
  {
   "cell_type": "markdown",
   "id": "f7e700ec",
   "metadata": {},
   "source": [
    "## Synchronous parallel optimization\n",
    "\n",
    "This section runs the synchronous parallel optimization with Trieste. We again use Local Penalization acquisition function, but this time with batch size equal to the number of workers we have available. Once Trieste suggests the batch, we add all points to the point queue, and workers immediatelly pick them up, one point per worker. Therefore all points in the batch are evaluated in parallel."
   ]
  },
  {
   "cell_type": "code",
   "execution_count": 9,
   "id": "05ce1c7e",
   "metadata": {
    "execution": {
     "iopub.execute_input": "2021-11-23T14:55:32.340847Z",
     "iopub.status.busy": "2021-11-23T14:55:32.340261Z",
     "iopub.status.idle": "2021-11-23T14:56:29.873570Z",
     "shell.execute_reply": "2021-11-23T14:56:29.872636Z"
    },
    "lines_to_next_cell": 2
   },
   "outputs": [
    {
     "name": "stdout",
     "output_type": "stream",
     "text": [
      "Process 2698: Main     : iteration 0 starts\n"
     ]
    },
    {
     "name": "stdout",
     "output_type": "stream",
     "text": [
      "Process 3173: Observer : observing data at point [[0.32303957 0.32085935]]"
     ]
    },
    {
     "name": "stdout",
     "output_type": "stream",
     "text": [
      "Process 3177: Observer : observing data at point [[0.         0.72693595]]"
     ]
    },
    {
     "name": "stdout",
     "output_type": "stream",
     "text": [
      "\n"
     ]
    },
    {
     "name": "stdout",
     "output_type": "stream",
     "text": [
      "Process 3181: Observer : observing data at point [[0.         0.20702139]]"
     ]
    },
    {
     "name": "stdout",
     "output_type": "stream",
     "text": [
      "\n"
     ]
    },
    {
     "name": "stdout",
     "output_type": "stream",
     "text": [
      "Process 3173: Objective: pretends like it's doing something for 1.9s"
     ]
    },
    {
     "name": "stdout",
     "output_type": "stream",
     "text": [
      "\n"
     ]
    },
    {
     "name": "stdout",
     "output_type": "stream",
     "text": [
      "Process 3177: Objective: pretends like it's doing something for 2.2s"
     ]
    },
    {
     "name": "stdout",
     "output_type": "stream",
     "text": [
      "\n"
     ]
    },
    {
     "name": "stdout",
     "output_type": "stream",
     "text": [
      "Process 3181: Objective: pretends like it's doing something for 0.62s"
     ]
    },
    {
     "name": "stdout",
     "output_type": "stream",
     "text": [
      "\n"
     ]
    },
    {
     "name": "stdout",
     "output_type": "stream",
     "text": [
      "\n"
     ]
    },
    {
     "name": "stdout",
     "output_type": "stream",
     "text": [
      "Process 3181: Observer : observed data (array([[0.        , 0.20702139]]), array([[3.00707565]]))"
     ]
    },
    {
     "name": "stdout",
     "output_type": "stream",
     "text": [
      "\n"
     ]
    },
    {
     "name": "stdout",
     "output_type": "stream",
     "text": [
      "Process 2698: Main     : received data (array([[0.        , 0.20702139]]), array([[3.00707565]]))\n"
     ]
    },
    {
     "name": "stdout",
     "output_type": "stream",
     "text": [
      "Process 3173: Observer : observed data (array([[0.32303957, 0.32085935]]), array([[-0.64023511]]))"
     ]
    },
    {
     "name": "stdout",
     "output_type": "stream",
     "text": [
      "\n"
     ]
    },
    {
     "name": "stdout",
     "output_type": "stream",
     "text": [
      "Process 2698: Main     : received data (array([[0.32303957, 0.32085935]]), array([[-0.64023511]]))\n"
     ]
    },
    {
     "name": "stdout",
     "output_type": "stream",
     "text": [
      "Process 3177: Observer : observed data (array([[0.        , 0.72693595]]), array([[-0.05016604]]))"
     ]
    },
    {
     "name": "stdout",
     "output_type": "stream",
     "text": [
      "\n"
     ]
    },
    {
     "name": "stdout",
     "output_type": "stream",
     "text": [
      "Process 2698: Main     : received data (array([[0.        , 0.72693595]]), array([[-0.05016604]]))\n"
     ]
    },
    {
     "name": "stdout",
     "output_type": "stream",
     "text": [
      "Process 2698: Main     : iteration 1 starts\n"
     ]
    },
    {
     "name": "stdout",
     "output_type": "stream",
     "text": [
      "Process 3181: Observer : observing data at point [[0.26232373 0.36267771]]"
     ]
    },
    {
     "name": "stdout",
     "output_type": "stream",
     "text": [
      "Process 3177: Observer : observing data at point [[0.27779338 0.25517184]]"
     ]
    },
    {
     "name": "stdout",
     "output_type": "stream",
     "text": [
      "\n"
     ]
    },
    {
     "name": "stdout",
     "output_type": "stream",
     "text": [
      "Process 3173: Observer : observing data at point [[0.38385109 0.27897412]]"
     ]
    },
    {
     "name": "stdout",
     "output_type": "stream",
     "text": [
      "\n"
     ]
    },
    {
     "name": "stdout",
     "output_type": "stream",
     "text": [
      "Process 3181: Objective: pretends like it's doing something for 1.9s"
     ]
    },
    {
     "name": "stdout",
     "output_type": "stream",
     "text": [
      "\n"
     ]
    },
    {
     "name": "stdout",
     "output_type": "stream",
     "text": [
      "Process 3177: Objective: pretends like it's doing something for 1.6s"
     ]
    },
    {
     "name": "stdout",
     "output_type": "stream",
     "text": [
      "Process 3173: Objective: pretends like it's doing something for 2.0s"
     ]
    },
    {
     "name": "stdout",
     "output_type": "stream",
     "text": [
      "\n"
     ]
    },
    {
     "name": "stdout",
     "output_type": "stream",
     "text": [
      "\n"
     ]
    },
    {
     "name": "stdout",
     "output_type": "stream",
     "text": [
      "\n"
     ]
    },
    {
     "name": "stdout",
     "output_type": "stream",
     "text": [
      "Process 3177: Observer : observed data (array([[0.27779338, 0.25517184]]), array([[-0.49043308]]))"
     ]
    },
    {
     "name": "stdout",
     "output_type": "stream",
     "text": [
      "\n"
     ]
    },
    {
     "name": "stdout",
     "output_type": "stream",
     "text": [
      "Process 2698: Main     : received data (array([[0.27779338, 0.25517184]]), array([[-0.49043308]]))\n"
     ]
    },
    {
     "name": "stdout",
     "output_type": "stream",
     "text": [
      "Process 3181: Observer : observed data (array([[0.26232373, 0.36267771]]), array([[-0.66200443]]))"
     ]
    },
    {
     "name": "stdout",
     "output_type": "stream",
     "text": [
      "\n"
     ]
    },
    {
     "name": "stdout",
     "output_type": "stream",
     "text": [
      "Process 2698: Main     : received data (array([[0.26232373, 0.36267771]]), array([[-0.66200443]]))\n"
     ]
    },
    {
     "name": "stdout",
     "output_type": "stream",
     "text": [
      "Process 3173: Observer : observed data (array([[0.38385109, 0.27897412]]), array([[-0.71930802]]))"
     ]
    },
    {
     "name": "stdout",
     "output_type": "stream",
     "text": [
      "\n"
     ]
    },
    {
     "name": "stdout",
     "output_type": "stream",
     "text": [
      "Process 2698: Main     : received data (array([[0.38385109, 0.27897412]]), array([[-0.71930802]]))\n"
     ]
    },
    {
     "name": "stdout",
     "output_type": "stream",
     "text": [
      "Process 2698: Main     : iteration 2 starts\n"
     ]
    },
    {
     "name": "stdout",
     "output_type": "stream",
     "text": [
      "Process 3173: Observer : observing data at point [[0.40888287 0.        ]]"
     ]
    },
    {
     "name": "stdout",
     "output_type": "stream",
     "text": [
      "Process 3177: Observer : observing data at point [[0.49803006 0.03486456]]"
     ]
    },
    {
     "name": "stdout",
     "output_type": "stream",
     "text": [
      "Process 3181: Observer : observing data at point [[0.61909657 0.07765602]]"
     ]
    },
    {
     "name": "stdout",
     "output_type": "stream",
     "text": [
      "\n"
     ]
    },
    {
     "name": "stdout",
     "output_type": "stream",
     "text": [
      "\n"
     ]
    },
    {
     "name": "stdout",
     "output_type": "stream",
     "text": [
      "\n"
     ]
    },
    {
     "name": "stdout",
     "output_type": "stream",
     "text": [
      "Process 3181: Objective: pretends like it's doing something for 2.1s"
     ]
    },
    {
     "name": "stdout",
     "output_type": "stream",
     "text": [
      "Process 3177: Objective: pretends like it's doing something for 1.6s"
     ]
    },
    {
     "name": "stdout",
     "output_type": "stream",
     "text": [
      "Process 3173: Objective: pretends like it's doing something for 1.2s"
     ]
    },
    {
     "name": "stdout",
     "output_type": "stream",
     "text": [
      "\n"
     ]
    },
    {
     "name": "stdout",
     "output_type": "stream",
     "text": [
      "\n"
     ]
    },
    {
     "name": "stdout",
     "output_type": "stream",
     "text": [
      "\n"
     ]
    },
    {
     "name": "stdout",
     "output_type": "stream",
     "text": [
      "Process 3173: Observer : observed data (array([[0.40888287, 0.        ]]), array([[-0.41793572]]))"
     ]
    },
    {
     "name": "stdout",
     "output_type": "stream",
     "text": [
      "\n"
     ]
    },
    {
     "name": "stdout",
     "output_type": "stream",
     "text": [
      "Process 2698: Main     : received data (array([[0.40888287, 0.        ]]), array([[-0.41793572]]))\n"
     ]
    },
    {
     "name": "stdout",
     "output_type": "stream",
     "text": [
      "Process 3177: Observer : observed data (array([[0.49803006, 0.03486456]]), array([[-0.90247863]]))"
     ]
    },
    {
     "name": "stdout",
     "output_type": "stream",
     "text": [
      "\n"
     ]
    },
    {
     "name": "stdout",
     "output_type": "stream",
     "text": [
      "Process 2698: Main     : received data (array([[0.49803006, 0.03486456]]), array([[-0.90247863]]))\n"
     ]
    },
    {
     "name": "stdout",
     "output_type": "stream",
     "text": [
      "Process 3181: Observer : observed data (array([[0.61909657, 0.07765602]]), array([[-0.93605147]]))"
     ]
    },
    {
     "name": "stdout",
     "output_type": "stream",
     "text": [
      "\n"
     ]
    },
    {
     "name": "stdout",
     "output_type": "stream",
     "text": [
      "Process 2698: Main     : received data (array([[0.61909657, 0.07765602]]), array([[-0.93605147]]))\n"
     ]
    },
    {
     "name": "stdout",
     "output_type": "stream",
     "text": [
      "Process 2698: Main     : iteration 3 starts\n"
     ]
    },
    {
     "name": "stdout",
     "output_type": "stream",
     "text": [
      "Process 3177: Observer : observing data at point [[0.52029807 0.13902507]]"
     ]
    },
    {
     "name": "stdout",
     "output_type": "stream",
     "text": [
      "Process 3173: Observer : observing data at point [[1.         0.36137548]]"
     ]
    },
    {
     "name": "stdout",
     "output_type": "stream",
     "text": [
      "Process 3181: Observer : observing data at point [[0.54015829 0.14119995]]"
     ]
    },
    {
     "name": "stdout",
     "output_type": "stream",
     "text": [
      "\n"
     ]
    },
    {
     "name": "stdout",
     "output_type": "stream",
     "text": [
      "\n"
     ]
    },
    {
     "name": "stdout",
     "output_type": "stream",
     "text": [
      "Process 3177: Objective: pretends like it's doing something for 2.0s"
     ]
    },
    {
     "name": "stdout",
     "output_type": "stream",
     "text": [
      "\n"
     ]
    },
    {
     "name": "stdout",
     "output_type": "stream",
     "text": [
      "Process 3173: Objective: pretends like it's doing something for 4.1s"
     ]
    },
    {
     "name": "stdout",
     "output_type": "stream",
     "text": [
      "\n"
     ]
    },
    {
     "name": "stdout",
     "output_type": "stream",
     "text": [
      "Process 3181: Objective: pretends like it's doing something for 2.0s"
     ]
    },
    {
     "name": "stdout",
     "output_type": "stream",
     "text": [
      "\n"
     ]
    },
    {
     "name": "stdout",
     "output_type": "stream",
     "text": [
      "\n"
     ]
    },
    {
     "name": "stdout",
     "output_type": "stream",
     "text": [
      "Process 3177: Observer : observed data (array([[0.52029807, 0.13902507]]), array([[-1.03278783]]))"
     ]
    },
    {
     "name": "stdout",
     "output_type": "stream",
     "text": [
      "\n"
     ]
    },
    {
     "name": "stdout",
     "output_type": "stream",
     "text": [
      "Process 2698: Main     : received data (array([[0.52029807, 0.13902507]]), array([[-1.03278783]]))\n"
     ]
    },
    {
     "name": "stdout",
     "output_type": "stream",
     "text": [
      "Process 3181: Observer : observed data (array([[0.54015829, 0.14119995]]), array([[-1.04657298]]))"
     ]
    },
    {
     "name": "stdout",
     "output_type": "stream",
     "text": [
      "\n"
     ]
    },
    {
     "name": "stdout",
     "output_type": "stream",
     "text": [
      "Process 2698: Main     : received data (array([[0.54015829, 0.14119995]]), array([[-1.04657298]]))\n"
     ]
    },
    {
     "name": "stdout",
     "output_type": "stream",
     "text": [
      "Process 3173: Observer : observed data (array([[1.        , 0.36137548]]), array([[-0.90513386]]))"
     ]
    },
    {
     "name": "stdout",
     "output_type": "stream",
     "text": [
      "\n"
     ]
    },
    {
     "name": "stdout",
     "output_type": "stream",
     "text": [
      "Process 2698: Main     : received data (array([[1.        , 0.36137548]]), array([[-0.90513386]]))\n"
     ]
    },
    {
     "name": "stdout",
     "output_type": "stream",
     "text": [
      "Process 2698: Main     : iteration 4 starts\n"
     ]
    },
    {
     "name": "stdout",
     "output_type": "stream",
     "text": [
      "Process 3173: Observer : observing data at point [[1.         0.14138804]]"
     ]
    },
    {
     "name": "stdout",
     "output_type": "stream",
     "text": [
      "Process 3177: Observer : observing data at point [[0.80415723 0.30957614]]"
     ]
    },
    {
     "name": "stdout",
     "output_type": "stream",
     "text": [
      "\n"
     ]
    },
    {
     "name": "stdout",
     "output_type": "stream",
     "text": [
      "Process 3181: Observer : observing data at point [[0.16580364 1.        ]]"
     ]
    },
    {
     "name": "stdout",
     "output_type": "stream",
     "text": [
      "Process 3173: Objective: pretends like it's doing something for 3.4s"
     ]
    },
    {
     "name": "stdout",
     "output_type": "stream",
     "text": [
      "\n"
     ]
    },
    {
     "name": "stdout",
     "output_type": "stream",
     "text": [
      "\n"
     ]
    },
    {
     "name": "stdout",
     "output_type": "stream",
     "text": [
      "Process 3181: Objective: pretends like it's doing something for 3.5s"
     ]
    },
    {
     "name": "stdout",
     "output_type": "stream",
     "text": [
      "Process 3177: Objective: pretends like it's doing something for 3.3s"
     ]
    },
    {
     "name": "stdout",
     "output_type": "stream",
     "text": [
      "\n"
     ]
    },
    {
     "name": "stdout",
     "output_type": "stream",
     "text": [
      "\n"
     ]
    },
    {
     "name": "stdout",
     "output_type": "stream",
     "text": [
      "\n"
     ]
    },
    {
     "name": "stdout",
     "output_type": "stream",
     "text": [
      "Process 3177: Observer : observed data (array([[0.80415723, 0.30957614]]), array([[-0.50320922]]))"
     ]
    },
    {
     "name": "stdout",
     "output_type": "stream",
     "text": [
      "\n"
     ]
    },
    {
     "name": "stdout",
     "output_type": "stream",
     "text": [
      "Process 2698: Main     : received data (array([[0.80415723, 0.30957614]]), array([[-0.50320922]]))\n"
     ]
    },
    {
     "name": "stdout",
     "output_type": "stream",
     "text": [
      "Process 3173: Observer : observed data (array([[1.        , 0.14138804]]), array([[-1.00266978]]))"
     ]
    },
    {
     "name": "stdout",
     "output_type": "stream",
     "text": [
      "\n"
     ]
    },
    {
     "name": "stdout",
     "output_type": "stream",
     "text": [
      "Process 2698: Main     : received data (array([[1.        , 0.14138804]]), array([[-1.00266978]]))\n"
     ]
    },
    {
     "name": "stdout",
     "output_type": "stream",
     "text": [
      "Process 3181: Observer : observed data (array([[0.16580364, 1.        ]]), array([[-0.67496432]]))"
     ]
    },
    {
     "name": "stdout",
     "output_type": "stream",
     "text": [
      "\n"
     ]
    },
    {
     "name": "stdout",
     "output_type": "stream",
     "text": [
      "Process 2698: Main     : received data (array([[0.16580364, 1.        ]]), array([[-0.67496432]]))\n"
     ]
    },
    {
     "name": "stdout",
     "output_type": "stream",
     "text": [
      "Process 2698: Main     : iteration 5 starts\n"
     ]
    },
    {
     "name": "stdout",
     "output_type": "stream",
     "text": [
      "Process 3177: Observer : observing data at point [[0.2348819  0.71526187]]"
     ]
    },
    {
     "name": "stdout",
     "output_type": "stream",
     "text": [
      "Process 3173: Observer : observing data at point [[0. 1.]]"
     ]
    },
    {
     "name": "stdout",
     "output_type": "stream",
     "text": [
      "Process 3181: Observer : observing data at point [[0.25699873 0.82071138]]"
     ]
    },
    {
     "name": "stdout",
     "output_type": "stream",
     "text": [
      "\n"
     ]
    },
    {
     "name": "stdout",
     "output_type": "stream",
     "text": [
      "\n"
     ]
    },
    {
     "name": "stdout",
     "output_type": "stream",
     "text": [
      "Process 3173: Objective: pretends like it's doing something for 3.0s"
     ]
    },
    {
     "name": "stdout",
     "output_type": "stream",
     "text": [
      "\n"
     ]
    },
    {
     "name": "stdout",
     "output_type": "stream",
     "text": [
      "Process 3181: Objective: pretends like it's doing something for 3.2s"
     ]
    },
    {
     "name": "stdout",
     "output_type": "stream",
     "text": [
      "\n"
     ]
    },
    {
     "name": "stdout",
     "output_type": "stream",
     "text": [
      "Process 3177: Objective: pretends like it's doing something for 2.9s"
     ]
    },
    {
     "name": "stdout",
     "output_type": "stream",
     "text": [
      "\n"
     ]
    },
    {
     "name": "stdout",
     "output_type": "stream",
     "text": [
      "\n"
     ]
    },
    {
     "name": "stdout",
     "output_type": "stream",
     "text": [
      "Process 3177: Observer : observed data (array([[0.2348819 , 0.71526187]]), array([[-0.7605727]]))"
     ]
    },
    {
     "name": "stdout",
     "output_type": "stream",
     "text": [
      "\n"
     ]
    },
    {
     "name": "stdout",
     "output_type": "stream",
     "text": [
      "Process 2698: Main     : received data (array([[0.2348819 , 0.71526187]]), array([[-0.7605727]]))\n"
     ]
    },
    {
     "name": "stdout",
     "output_type": "stream",
     "text": [
      "Process 3173: Observer : observed data (array([[0., 1.]]), array([[-0.71803081]]))"
     ]
    },
    {
     "name": "stdout",
     "output_type": "stream",
     "text": [
      "\n"
     ]
    },
    {
     "name": "stdout",
     "output_type": "stream",
     "text": [
      "Process 2698: Main     : received data (array([[0., 1.]]), array([[-0.71803081]]))\n"
     ]
    },
    {
     "name": "stdout",
     "output_type": "stream",
     "text": [
      "Process 3181: Observer : observed data (array([[0.25699873, 0.82071138]]), array([[-0.42715596]]))"
     ]
    },
    {
     "name": "stdout",
     "output_type": "stream",
     "text": [
      "\n"
     ]
    },
    {
     "name": "stdout",
     "output_type": "stream",
     "text": [
      "Process 2698: Main     : received data (array([[0.25699873, 0.82071138]]), array([[-0.42715596]]))\n"
     ]
    },
    {
     "name": "stdout",
     "output_type": "stream",
     "text": [
      "Process 2698: Main     : iteration 6 starts\n"
     ]
    },
    {
     "name": "stdout",
     "output_type": "stream",
     "text": [
      "Process 3181: Observer : observing data at point [[0.99958883 0.27781695]]"
     ]
    },
    {
     "name": "stdout",
     "output_type": "stream",
     "text": [
      "Process 3173: Observer : observing data at point [[1.         0.60329547]]"
     ]
    },
    {
     "name": "stdout",
     "output_type": "stream",
     "text": [
      "Process 3177: Observer : observing data at point [[1. 0.]]"
     ]
    },
    {
     "name": "stdout",
     "output_type": "stream",
     "text": [
      "\n"
     ]
    },
    {
     "name": "stdout",
     "output_type": "stream",
     "text": [
      "\n"
     ]
    },
    {
     "name": "stdout",
     "output_type": "stream",
     "text": [
      "Process 3173: Objective: pretends like it's doing something for 4.8s"
     ]
    },
    {
     "name": "stdout",
     "output_type": "stream",
     "text": [
      "\n"
     ]
    },
    {
     "name": "stdout",
     "output_type": "stream",
     "text": [
      "\n"
     ]
    },
    {
     "name": "stdout",
     "output_type": "stream",
     "text": [
      "Process 3177: Objective: pretends like it's doing something for 3.0s"
     ]
    },
    {
     "name": "stdout",
     "output_type": "stream",
     "text": [
      "Process 3181: Objective: pretends like it's doing something for 3.8s"
     ]
    },
    {
     "name": "stdout",
     "output_type": "stream",
     "text": [
      "\n"
     ]
    },
    {
     "name": "stdout",
     "output_type": "stream",
     "text": [
      "\n"
     ]
    },
    {
     "name": "stdout",
     "output_type": "stream",
     "text": [
      "Process 3177: Observer : observed data (array([[1., 0.]]), array([[-0.84406373]]))"
     ]
    },
    {
     "name": "stdout",
     "output_type": "stream",
     "text": [
      "\n"
     ]
    },
    {
     "name": "stdout",
     "output_type": "stream",
     "text": [
      "Process 2698: Main     : received data (array([[1., 0.]]), array([[-0.84406373]]))\n"
     ]
    },
    {
     "name": "stdout",
     "output_type": "stream",
     "text": [
      "Process 3181: Observer : observed data (array([[0.99958883, 0.27781695]]), array([[-0.9918972]]))"
     ]
    },
    {
     "name": "stdout",
     "output_type": "stream",
     "text": [
      "\n"
     ]
    },
    {
     "name": "stdout",
     "output_type": "stream",
     "text": [
      "Process 2698: Main     : received data (array([[0.99958883, 0.27781695]]), array([[-0.9918972]]))\n"
     ]
    },
    {
     "name": "stdout",
     "output_type": "stream",
     "text": [
      "Process 3173: Observer : observed data (array([[1.        , 0.60329547]]), array([[-0.31389787]]))"
     ]
    },
    {
     "name": "stdout",
     "output_type": "stream",
     "text": [
      "\n"
     ]
    },
    {
     "name": "stdout",
     "output_type": "stream",
     "text": [
      "Process 2698: Main     : received data (array([[1.        , 0.60329547]]), array([[-0.31389787]]))\n"
     ]
    },
    {
     "name": "stdout",
     "output_type": "stream",
     "text": [
      "Process 2698: Main     : iteration 7 starts\n"
     ]
    },
    {
     "name": "stdout",
     "output_type": "stream",
     "text": [
      "Process 3181: Observer : observing data at point [[0.1880681  0.58265737]]"
     ]
    },
    {
     "name": "stdout",
     "output_type": "stream",
     "text": [
      "Process 3177: Observer : observing data at point [[1. 1.]]"
     ]
    },
    {
     "name": "stdout",
     "output_type": "stream",
     "text": [
      "\n"
     ]
    },
    {
     "name": "stdout",
     "output_type": "stream",
     "text": [
      "\n"
     ]
    },
    {
     "name": "stdout",
     "output_type": "stream",
     "text": [
      "Process 3173: Observer : observing data at point [[0.19549771 0.56633939]]"
     ]
    },
    {
     "name": "stdout",
     "output_type": "stream",
     "text": [
      "Process 3177: Objective: pretends like it's doing something for 6.0s"
     ]
    },
    {
     "name": "stdout",
     "output_type": "stream",
     "text": [
      "Process 3181: Objective: pretends like it's doing something for 2.3s"
     ]
    },
    {
     "name": "stdout",
     "output_type": "stream",
     "text": [
      "\n"
     ]
    },
    {
     "name": "stdout",
     "output_type": "stream",
     "text": [
      "\n"
     ]
    },
    {
     "name": "stdout",
     "output_type": "stream",
     "text": [
      "Process 3173: Objective: pretends like it's doing something for 2.3s"
     ]
    },
    {
     "name": "stdout",
     "output_type": "stream",
     "text": [
      "\n"
     ]
    },
    {
     "name": "stdout",
     "output_type": "stream",
     "text": [
      "\n"
     ]
    },
    {
     "name": "stdout",
     "output_type": "stream",
     "text": [
      "Process 3173: Observer : observed data (array([[0.19549771, 0.56633939]]), array([[-0.91568133]]))"
     ]
    },
    {
     "name": "stdout",
     "output_type": "stream",
     "text": [
      "\n"
     ]
    },
    {
     "name": "stdout",
     "output_type": "stream",
     "text": [
      "Process 2698: Main     : received data (array([[0.19549771, 0.56633939]]), array([[-0.91568133]]))\n"
     ]
    },
    {
     "name": "stdout",
     "output_type": "stream",
     "text": [
      "Process 3181: Observer : observed data (array([[0.1880681 , 0.58265737]]), array([[-0.93353083]]))"
     ]
    },
    {
     "name": "stdout",
     "output_type": "stream",
     "text": [
      "\n"
     ]
    },
    {
     "name": "stdout",
     "output_type": "stream",
     "text": [
      "Process 2698: Main     : received data (array([[0.1880681 , 0.58265737]]), array([[-0.93353083]]))\n"
     ]
    },
    {
     "name": "stdout",
     "output_type": "stream",
     "text": [
      "Process 3177: Observer : observed data (array([[1., 1.]]), array([[1.75288144]]))"
     ]
    },
    {
     "name": "stdout",
     "output_type": "stream",
     "text": [
      "\n"
     ]
    },
    {
     "name": "stdout",
     "output_type": "stream",
     "text": [
      "Process 2698: Main     : received data (array([[1., 1.]]), array([[1.75288144]]))\n"
     ]
    },
    {
     "name": "stdout",
     "output_type": "stream",
     "text": [
      "Process 2698: Main     : iteration 8 starts\n"
     ]
    },
    {
     "name": "stdout",
     "output_type": "stream",
     "text": [
      "Process 3181: Observer : observing data at point [[0.10681484 0.88677038]]"
     ]
    },
    {
     "name": "stdout",
     "output_type": "stream",
     "text": [
      "Process 3177: Observer : observing data at point [[0.12836673 0.82373968]]"
     ]
    },
    {
     "name": "stdout",
     "output_type": "stream",
     "text": [
      "Process 3173: Observer : observing data at point [[0.11783113 0.85588629]]"
     ]
    },
    {
     "name": "stdout",
     "output_type": "stream",
     "text": [
      "\n"
     ]
    },
    {
     "name": "stdout",
     "output_type": "stream",
     "text": [
      "\n"
     ]
    },
    {
     "name": "stdout",
     "output_type": "stream",
     "text": [
      "\n"
     ]
    },
    {
     "name": "stdout",
     "output_type": "stream",
     "text": [
      "Process 3181: Objective: pretends like it's doing something for 3.0s"
     ]
    },
    {
     "name": "stdout",
     "output_type": "stream",
     "text": [
      "Process 3177: Objective: pretends like it's doing something for 2.9s"
     ]
    },
    {
     "name": "stdout",
     "output_type": "stream",
     "text": [
      "\n"
     ]
    },
    {
     "name": "stdout",
     "output_type": "stream",
     "text": [
      "\n"
     ]
    },
    {
     "name": "stdout",
     "output_type": "stream",
     "text": [
      "Process 3173: Objective: pretends like it's doing something for 2.9s"
     ]
    },
    {
     "name": "stdout",
     "output_type": "stream",
     "text": [
      "\n"
     ]
    },
    {
     "name": "stdout",
     "output_type": "stream",
     "text": [
      "Process 3177: Observer : observed data (array([[0.12836673, 0.82373968]]), array([[-1.04585299]]))"
     ]
    },
    {
     "name": "stdout",
     "output_type": "stream",
     "text": [
      "\n"
     ]
    },
    {
     "name": "stdout",
     "output_type": "stream",
     "text": [
      "Process 2698: Main     : received data (array([[0.12836673, 0.82373968]]), array([[-1.04585299]]))\n"
     ]
    },
    {
     "name": "stdout",
     "output_type": "stream",
     "text": [
      "Process 3173: Observer : observed data (array([[0.11783113, 0.85588629]]), array([[-1.04435654]]))"
     ]
    },
    {
     "name": "stdout",
     "output_type": "stream",
     "text": [
      "\n"
     ]
    },
    {
     "name": "stdout",
     "output_type": "stream",
     "text": [
      "Process 2698: Main     : received data (array([[0.11783113, 0.85588629]]), array([[-1.04435654]]))\n"
     ]
    },
    {
     "name": "stdout",
     "output_type": "stream",
     "text": [
      "Process 3181: Observer : observed data (array([[0.10681484, 0.88677038]]), array([[-1.0382446]]))"
     ]
    },
    {
     "name": "stdout",
     "output_type": "stream",
     "text": [
      "\n"
     ]
    },
    {
     "name": "stdout",
     "output_type": "stream",
     "text": [
      "Process 2698: Main     : received data (array([[0.10681484, 0.88677038]]), array([[-1.0382446]]))\n"
     ]
    },
    {
     "name": "stdout",
     "output_type": "stream",
     "text": [
      "Process 2698: Main     : iteration 9 starts\n"
     ]
    },
    {
     "name": "stdout",
     "output_type": "stream",
     "text": [
      "Process 3177: Observer : observing data at point [[0.54933442 0.17062351]]"
     ]
    },
    {
     "name": "stdout",
     "output_type": "stream",
     "text": [
      "\n"
     ]
    },
    {
     "name": "stdout",
     "output_type": "stream",
     "text": [
      "Process 3173: Observer : observing data at point [[0.54884423 0.1686016 ]]"
     ]
    },
    {
     "name": "stdout",
     "output_type": "stream",
     "text": [
      "\n"
     ]
    },
    {
     "name": "stdout",
     "output_type": "stream",
     "text": [
      "Process 3177: Objective: pretends like it's doing something for 2.2s"
     ]
    },
    {
     "name": "stdout",
     "output_type": "stream",
     "text": [
      "Process 3181: Observer : observing data at point [[0.54987267 0.17265072]]"
     ]
    },
    {
     "name": "stdout",
     "output_type": "stream",
     "text": [
      "Process 3173: Objective: pretends like it's doing something for 2.2s"
     ]
    },
    {
     "name": "stdout",
     "output_type": "stream",
     "text": [
      "\n"
     ]
    },
    {
     "name": "stdout",
     "output_type": "stream",
     "text": [
      "\n"
     ]
    },
    {
     "name": "stdout",
     "output_type": "stream",
     "text": [
      "Process 3181: Objective: pretends like it's doing something for 2.2s"
     ]
    },
    {
     "name": "stdout",
     "output_type": "stream",
     "text": [
      "\n"
     ]
    },
    {
     "name": "stdout",
     "output_type": "stream",
     "text": [
      "\n"
     ]
    },
    {
     "name": "stdout",
     "output_type": "stream",
     "text": [
      "Process 3177: Observer : observed data (array([[0.54933442, 0.17062351]]), array([[-1.04400662]]))"
     ]
    },
    {
     "name": "stdout",
     "output_type": "stream",
     "text": [
      "Process 3173: Observer : observed data (array([[0.54884423, 0.1686016 ]]), array([[-1.04460753]]))"
     ]
    },
    {
     "name": "stdout",
     "output_type": "stream",
     "text": [
      "\n"
     ]
    },
    {
     "name": "stdout",
     "output_type": "stream",
     "text": [
      "\n"
     ]
    },
    {
     "name": "stdout",
     "output_type": "stream",
     "text": [
      "Process 2698: Main     : received data (array([[0.54884423, 0.1686016 ]]), array([[-1.04460753]]))\n"
     ]
    },
    {
     "name": "stdout",
     "output_type": "stream",
     "text": [
      "Process 2698: Main     : received data (array([[0.54933442, 0.17062351]]), array([[-1.04400662]]))\n"
     ]
    },
    {
     "name": "stdout",
     "output_type": "stream",
     "text": [
      "Process 3181: Observer : observed data (array([[0.54987267, 0.17265072]]), array([[-1.0433228]]))"
     ]
    },
    {
     "name": "stdout",
     "output_type": "stream",
     "text": [
      "\n"
     ]
    },
    {
     "name": "stdout",
     "output_type": "stream",
     "text": [
      "Process 2698: Main     : received data (array([[0.54987267, 0.17265072]]), array([[-1.0433228]]))\n"
     ]
    },
    {
     "name": "stdout",
     "output_type": "stream",
     "text": [
      "Got 33 observations in 56.94s\n"
     ]
    }
   ],
   "source": [
    "# setup Ask Tell BO\n",
    "model = build_model(initial_data)\n",
    "\n",
    "local_penalization_acq = LocalPenalizationAcquisitionFunction(search_space, num_samples=2000)\n",
    "local_penalization_rule = EfficientGlobalOptimization(  # type: ignore\n",
    "    num_query_points=num_workers, builder=local_penalization_acq\n",
    ")\n",
    "\n",
    "sync_bo = AskTellOptimizer(search_space, initial_data, model, local_penalization_rule)\n",
    "\n",
    "\n",
    "# retrieve process id for nice logging\n",
    "pid = os.getpid()\n",
    "# create point and observation queues\n",
    "m = Manager()\n",
    "pq = m.Queue()\n",
    "oq = m.Queue()\n",
    "# keep track of all workers we have launched\n",
    "observer_processes = []\n",
    "\n",
    "start = timeit.default_timer()\n",
    "try:\n",
    "    observer_processes = create_worker_processes(num_workers, pq, oq)\n",
    "\n",
    "    # BO loop starts here\n",
    "    for i in range(num_iterations):\n",
    "        print(f\"Process {pid}: Main     : iteration {i} starts\", flush=True)\n",
    "\n",
    "        # get a batch of points from Trieste, send them to points queue\n",
    "        # each worker picks up a point and processes it\n",
    "        points = sync_bo.ask()\n",
    "        for point in points.numpy():\n",
    "            pq.put(point.reshape(1, -1))  # reshape is to make point a 2d array\n",
    "\n",
    "        # now we wait for all workers to finish\n",
    "        # we create an empty dataset and wait\n",
    "        # until we collected as many observations in it\n",
    "        # as there were points in the batch\n",
    "        all_new_data = Dataset(\n",
    "            tf.zeros((0, initial_data.query_points.shape[1]), tf.float64),\n",
    "            tf.zeros((0, initial_data.observations.shape[1]), tf.float64),\n",
    "        )\n",
    "        while len(all_new_data) < num_workers:\n",
    "            # this line blocks the process until new data is available in the queue\n",
    "            new_data = oq.get()\n",
    "            print(f\"Process {pid}: Main     : received data {new_data}\", flush=True)\n",
    "\n",
    "            new_data = Dataset(\n",
    "                query_points=tf.constant(new_data[0], dtype=tf.float64),\n",
    "                observations=tf.constant(new_data[1], dtype=tf.float64),\n",
    "            )\n",
    "\n",
    "            all_new_data = all_new_data + new_data\n",
    "\n",
    "        # tell Trieste of new batch of observations\n",
    "        sync_bo.tell(all_new_data)\n",
    "\n",
    "finally:\n",
    "    terminate_processes(observer_processes)\n",
    "stop = timeit.default_timer()\n",
    "\n",
    "# Collect the observations, compute the running time\n",
    "sync_lp_observations = (\n",
    "    sync_bo.to_result().try_get_final_dataset().observations - SCALED_BRANIN_MINIMUM\n",
    ")\n",
    "sync_lp_time = stop - start\n",
    "print(f\"Got {len(sync_lp_observations)} observations in {sync_lp_time:.2f}s\")"
   ]
  },
  {
   "cell_type": "markdown",
   "id": "e7257f74",
   "metadata": {},
   "source": [
    "## Comparison\n",
    "To compare outcomes of sync and async runs, let's plot their respective regrets side by side, and print out the running time. For this toy problem we expect async scenario to run a little bit faster on machines with multiple CPU."
   ]
  },
  {
   "cell_type": "code",
   "execution_count": 10,
   "id": "8346b1b9",
   "metadata": {
    "execution": {
     "iopub.execute_input": "2021-11-23T14:56:29.883698Z",
     "iopub.status.busy": "2021-11-23T14:56:29.883061Z",
     "iopub.status.idle": "2021-11-23T14:56:31.423740Z",
     "shell.execute_reply": "2021-11-23T14:56:31.424554Z"
    }
   },
   "outputs": [
    {
     "data": {
      "image/png": "[encoded data removed]",
      "text/plain": [
       "<Figure size 432x288 with 2 Axes>"
      ]
     },
     "metadata": {
      "needs_background": "light"
     },
     "output_type": "display_data"
    }
   ],
   "source": [
    "from util.plotting import plot_regret\n",
    "import matplotlib.pyplot as plt\n",
    "\n",
    "fig, ax = plt.subplots(1, 2)\n",
    "\n",
    "sync_lp_min_idx = tf.squeeze(tf.argmin(sync_lp_observations, axis=0))\n",
    "async_lp_min_idx = tf.squeeze(tf.argmin(async_lp_observations, axis=0))\n",
    "\n",
    "plot_regret(\n",
    "    sync_lp_observations.numpy(), ax[0], num_init=len(initial_data), idx_best=sync_lp_min_idx\n",
    ")\n",
    "ax[0].set_yscale(\"log\")\n",
    "ax[0].set_ylabel(\"Regret\")\n",
    "ax[0].set_ylim(0.0000001, 100)\n",
    "ax[0].set_xlabel(\"# evaluations\")\n",
    "ax[0].set_title(f\"Sync LP, {len(sync_lp_observations)} points, time {sync_lp_time:.2f}\")\n",
    "\n",
    "plot_regret(\n",
    "    async_lp_observations.numpy(), ax[1], num_init=len(initial_data), idx_best=async_lp_min_idx\n",
    ")\n",
    "ax[1].set_yscale(\"log\")\n",
    "ax[1].set_ylabel(\"Regret\")\n",
    "ax[1].set_ylim(0.0000001, 100)\n",
    "ax[1].set_xlabel(\"# evaluations\")\n",
    "ax[1].set_title(f\"Async LP, {len(async_lp_observations)} points, time {async_lp_time:.2f}s\")\n",
    "\n",
    "fig.tight_layout()"
   ]
  }
 ],
 "metadata": {
  "jupytext": {
   "cell_metadata_filter": "-all",
   "main_language": "python",
   "notebook_metadata_filter": "-all",
   "text_representation": {
    "extension": ".py",
    "format_name": "percent"
   }
  },
  "language_info": {
   "codemirror_mode": {
    "name": "ipython",
    "version": 3
   },
   "file_extension": ".py",
   "mimetype": "text/x-python",
   "name": "python",
   "nbconvert_exporter": "python",
   "pygments_lexer": "ipython3",
   "version": "3.7.12"
  }
 },
 "nbformat": 4,
 "nbformat_minor": 5
}
